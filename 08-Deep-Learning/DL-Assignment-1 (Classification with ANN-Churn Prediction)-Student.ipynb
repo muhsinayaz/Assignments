{
  "cells": [
    {
      "cell_type": "markdown",
      "metadata": {
        "id": "6W36ELMZyIC-"
      },
      "source": [
        "___\n",
        "\n",
        "<p style=\"text-align: center;\"><img src=\"https://docs.google.com/uc?id=1lY0Uj5R04yMY3-ZppPWxqCr5pvBLYPnV\" class=\"img-fluid\" alt=\"CLRSWY\"></p>\n",
        "\n",
        "___"
      ]
    },
    {
      "cell_type": "markdown",
      "metadata": {
        "id": "jkUsL3xcyIC_"
      },
      "source": [
        "<h1 style=\"text-align: center;\">Deep Learning<br><br>Assignment-1 (ANN)<br><br>Churn Prediction for Bank Customer<br><h1>"
      ]
    },
    {
      "cell_type": "markdown",
      "metadata": {
        "id": "5_ZOYwVTyIDA"
      },
      "source": [
        "# Dataset Info"
      ]
    },
    {
      "cell_type": "markdown",
      "metadata": {
        "id": "GPRTQG9wyIDA"
      },
      "source": [
        "We have a dataset in which there are details of a bank's customers and the target variable is a binary variable reflecting the fact whether the customer left the bank (closed his account) or he continues to be a customer.\n",
        "\n",
        "The features in the given dataset are:\n",
        "- **rownumber:** Row Numbers from 1 to 10000.\n",
        "- **customerid:** A unique ID that identifies each customer.\n",
        "- **surname:** The customer’s surname.\n",
        "- **creditscore:** A credit score is a number between 300–850 that depicts a consumer's creditworthiness.\n",
        "- **geography:** The country from which the customer belongs to.\n",
        "- **Gender:** The customer’s gender: Male, Female\n",
        "- **Age:** The customer’s current age, in years, at the time of being customer.\n",
        "- **tenure:** The number of years for which the customer has been with the bank.\n",
        "- **balance:** Bank balance of the customer.\n",
        "- **numofproducts:** the number of bank products the customer is utilising.\n",
        "- **hascrcard:** The number of credit cards given to the customer by the bank.\n",
        "- **isactivemember:** Binary Flag for indicating if the client is active or not with the bank before the moment where the client exits the company (recorded in the variable \"exited\")\n",
        "- **exited:** Binary flag 1 if the customer closed account with bank and 0 if the customer is retained.\n",
        "We have a dataset in which there are details of a bank's customers and the target variable is a binary variable reflecting the fact whether the customer left the bank (closed his account) or he continues to be a customer.\n",
        "\n",
        "Verilen veri kümesindeki özellikler:\n",
        "- ** Rownumber: ** 1'den 10000'e satır numaraları.\n",
        "- ** MüşteriD: ** Her müşteriyi tanımlayan benzersiz bir kimlik.\n",
        "- ** Soyadı: ** Müşterinin soyadı.\n",
        "- ** CreditsCore: ** Kredi puanı, bir tüketicinin kredibilitesini tasvir eden 300-850 arasında bir sayıdır.\n",
        "- ** Coğrafya: ** Müşterinin ait olduğu ülke.\n",
        "- ** Cinsiyet: ** Müşterinin Cinsiyeti: Erkek, Kadın\n",
        "- ** Yaş: ** Müşterinin mevcut yaşı, yıllar içinde, müşteri olduğu zaman.\n",
        "- ** Görev süresi: ** Müşterinin bankada bulunduğu yıl sayısı.\n",
        "- ** Denge: ** Müşterinin banka bakiyesi.\n",
        "- ** NumofProducts: ** Müşterinin kullandığı banka ürünlerinin sayısı.\n",
        "- ** Hascrcard: ** Banka tarafından müşteriye verilen kredi kartı sayısı.\n",
        "- ** Isactivemember: ** Müşterinin şirketten çıktığı andan önce bankada aktif olup olmadığını belirtmek için ikili bayrak (\"Çıktı\" değişkeninde kaydedildi)\n",
        "- ** Çıktı: ** İkili bayrak 1 Müşteri banka ile kapatılırsa ve müşteri tutulursa 0."
      ]
    },
    {
      "cell_type": "markdown",
      "metadata": {
        "id": "EvmRH8W-yIDB"
      },
      "source": [
        "# Improt Libraries & Data"
      ]
    },
    {
      "cell_type": "code",
      "execution_count": null,
      "metadata": {
        "id": "ZXIG4kVMyIDC"
      },
      "outputs": [],
      "source": [
        "import numpy as np\n",
        "import pandas as pd\n",
        "import matplotlib.pyplot as plt\n",
        "import seaborn as sns\n",
        "\n",
        "import warnings\n",
        "warnings.filterwarnings(\"ignore\")\n",
        "warnings.warn(\"this will not show\")\n",
        "\n",
        "plt.rcParams[\"figure.figsize\"] = (10,6)\n",
        "\n",
        "sns.set_style(\"whitegrid\")\n",
        "pd.set_option('display.float_format', lambda x: '%.3f' % x)"
      ]
    },
    {
      "cell_type": "code",
      "execution_count": null,
      "metadata": {
        "id": "RBx9Zno-1oQy"
      },
      "outputs": [],
      "source": [
        "from sklearn.metrics import recall_score,\\\n",
        "                            f1_score, precision_recall_curve,\\\n",
        "                            average_precision_score"
      ]
    },
    {
      "cell_type": "code",
      "execution_count": null,
      "metadata": {
        "colab": {
          "base_uri": "https://localhost:8080/"
        },
        "id": "RqrY4PFryqo0",
        "outputId": "f863a879-d119-493b-d04a-02cabf79d249"
      },
      "outputs": [
        {
          "name": "stdout",
          "output_type": "stream",
          "text": [
            "Mounted at /content/drive\n"
          ]
        }
      ],
      "source": [
        "from google.colab import drive\n",
        "drive.mount('/content/drive')"
      ]
    },
    {
      "cell_type": "code",
      "execution_count": null,
      "metadata": {
        "id": "lLl_andSyIDD"
      },
      "outputs": [],
      "source": [
        "df = pd.read_csv(\"/content/drive/MyDrive/Colab Notebooks/Deep-Learning/Assignment/Churn_Modelling.csv\")"
      ]
    },
    {
      "cell_type": "markdown",
      "metadata": {
        "id": "bEN3jz7xyIDD"
      },
      "source": [
        "# Exploratory Data Analysis and Visualization"
      ]
    },
    {
      "cell_type": "markdown",
      "metadata": {
        "id": "6Wx0WoWdyIDD"
      },
      "source": [
        "1. Implement basic steps to see how is your data looks like\n",
        "2. Check for missing values\n",
        "3. Drop the features that not suitable for modelling\n",
        "4. Implement basic visualization steps such as histogram, countplot, heatmap\n",
        "5. Convert categorical variables to dummy variables"
      ]
    },
    {
      "cell_type": "code",
      "execution_count": null,
      "metadata": {
        "colab": {
          "base_uri": "https://localhost:8080/",
          "height": 270
        },
        "id": "kLD_H3-RyIDD",
        "outputId": "a43010f7-d8bb-441e-e471-e94575f1611e"
      },
      "outputs": [
        {
          "data": {
            "text/html": [
              "\n",
              "  <div id=\"df-38493cd6-5551-4c27-8f30-1a61f6efdbd9\">\n",
              "    <div class=\"colab-df-container\">\n",
              "      <div>\n",
              "<style scoped>\n",
              "    .dataframe tbody tr th:only-of-type {\n",
              "        vertical-align: middle;\n",
              "    }\n",
              "\n",
              "    .dataframe tbody tr th {\n",
              "        vertical-align: top;\n",
              "    }\n",
              "\n",
              "    .dataframe thead th {\n",
              "        text-align: right;\n",
              "    }\n",
              "</style>\n",
              "<table border=\"1\" class=\"dataframe\">\n",
              "  <thead>\n",
              "    <tr style=\"text-align: right;\">\n",
              "      <th></th>\n",
              "      <th>RowNumber</th>\n",
              "      <th>CustomerId</th>\n",
              "      <th>Surname</th>\n",
              "      <th>CreditScore</th>\n",
              "      <th>Geography</th>\n",
              "      <th>Gender</th>\n",
              "      <th>Age</th>\n",
              "      <th>Tenure</th>\n",
              "      <th>Balance</th>\n",
              "      <th>NumOfProducts</th>\n",
              "      <th>HasCrCard</th>\n",
              "      <th>IsActiveMember</th>\n",
              "      <th>EstimatedSalary</th>\n",
              "      <th>Exited</th>\n",
              "    </tr>\n",
              "  </thead>\n",
              "  <tbody>\n",
              "    <tr>\n",
              "      <th>0</th>\n",
              "      <td>1</td>\n",
              "      <td>15634602</td>\n",
              "      <td>Hargrave</td>\n",
              "      <td>619</td>\n",
              "      <td>France</td>\n",
              "      <td>Female</td>\n",
              "      <td>42</td>\n",
              "      <td>2</td>\n",
              "      <td>0.000</td>\n",
              "      <td>1</td>\n",
              "      <td>1</td>\n",
              "      <td>1</td>\n",
              "      <td>101348.880</td>\n",
              "      <td>1</td>\n",
              "    </tr>\n",
              "    <tr>\n",
              "      <th>1</th>\n",
              "      <td>2</td>\n",
              "      <td>15647311</td>\n",
              "      <td>Hill</td>\n",
              "      <td>608</td>\n",
              "      <td>Spain</td>\n",
              "      <td>Female</td>\n",
              "      <td>41</td>\n",
              "      <td>1</td>\n",
              "      <td>83807.860</td>\n",
              "      <td>1</td>\n",
              "      <td>0</td>\n",
              "      <td>1</td>\n",
              "      <td>112542.580</td>\n",
              "      <td>0</td>\n",
              "    </tr>\n",
              "    <tr>\n",
              "      <th>2</th>\n",
              "      <td>3</td>\n",
              "      <td>15619304</td>\n",
              "      <td>Onio</td>\n",
              "      <td>502</td>\n",
              "      <td>France</td>\n",
              "      <td>Female</td>\n",
              "      <td>42</td>\n",
              "      <td>8</td>\n",
              "      <td>159660.800</td>\n",
              "      <td>3</td>\n",
              "      <td>1</td>\n",
              "      <td>0</td>\n",
              "      <td>113931.570</td>\n",
              "      <td>1</td>\n",
              "    </tr>\n",
              "    <tr>\n",
              "      <th>3</th>\n",
              "      <td>4</td>\n",
              "      <td>15701354</td>\n",
              "      <td>Boni</td>\n",
              "      <td>699</td>\n",
              "      <td>France</td>\n",
              "      <td>Female</td>\n",
              "      <td>39</td>\n",
              "      <td>1</td>\n",
              "      <td>0.000</td>\n",
              "      <td>2</td>\n",
              "      <td>0</td>\n",
              "      <td>0</td>\n",
              "      <td>93826.630</td>\n",
              "      <td>0</td>\n",
              "    </tr>\n",
              "    <tr>\n",
              "      <th>4</th>\n",
              "      <td>5</td>\n",
              "      <td>15737888</td>\n",
              "      <td>Mitchell</td>\n",
              "      <td>850</td>\n",
              "      <td>Spain</td>\n",
              "      <td>Female</td>\n",
              "      <td>43</td>\n",
              "      <td>2</td>\n",
              "      <td>125510.820</td>\n",
              "      <td>1</td>\n",
              "      <td>1</td>\n",
              "      <td>1</td>\n",
              "      <td>79084.100</td>\n",
              "      <td>0</td>\n",
              "    </tr>\n",
              "  </tbody>\n",
              "</table>\n",
              "</div>\n",
              "      <button class=\"colab-df-convert\" onclick=\"convertToInteractive('df-38493cd6-5551-4c27-8f30-1a61f6efdbd9')\"\n",
              "              title=\"Convert this dataframe to an interactive table.\"\n",
              "              style=\"display:none;\">\n",
              "        \n",
              "  <svg xmlns=\"http://www.w3.org/2000/svg\" height=\"24px\"viewBox=\"0 0 24 24\"\n",
              "       width=\"24px\">\n",
              "    <path d=\"M0 0h24v24H0V0z\" fill=\"none\"/>\n",
              "    <path d=\"M18.56 5.44l.94 2.06.94-2.06 2.06-.94-2.06-.94-.94-2.06-.94 2.06-2.06.94zm-11 1L8.5 8.5l.94-2.06 2.06-.94-2.06-.94L8.5 2.5l-.94 2.06-2.06.94zm10 10l.94 2.06.94-2.06 2.06-.94-2.06-.94-.94-2.06-.94 2.06-2.06.94z\"/><path d=\"M17.41 7.96l-1.37-1.37c-.4-.4-.92-.59-1.43-.59-.52 0-1.04.2-1.43.59L10.3 9.45l-7.72 7.72c-.78.78-.78 2.05 0 2.83L4 21.41c.39.39.9.59 1.41.59.51 0 1.02-.2 1.41-.59l7.78-7.78 2.81-2.81c.8-.78.8-2.07 0-2.86zM5.41 20L4 18.59l7.72-7.72 1.47 1.35L5.41 20z\"/>\n",
              "  </svg>\n",
              "      </button>\n",
              "      \n",
              "  <style>\n",
              "    .colab-df-container {\n",
              "      display:flex;\n",
              "      flex-wrap:wrap;\n",
              "      gap: 12px;\n",
              "    }\n",
              "\n",
              "    .colab-df-convert {\n",
              "      background-color: #E8F0FE;\n",
              "      border: none;\n",
              "      border-radius: 50%;\n",
              "      cursor: pointer;\n",
              "      display: none;\n",
              "      fill: #1967D2;\n",
              "      height: 32px;\n",
              "      padding: 0 0 0 0;\n",
              "      width: 32px;\n",
              "    }\n",
              "\n",
              "    .colab-df-convert:hover {\n",
              "      background-color: #E2EBFA;\n",
              "      box-shadow: 0px 1px 2px rgba(60, 64, 67, 0.3), 0px 1px 3px 1px rgba(60, 64, 67, 0.15);\n",
              "      fill: #174EA6;\n",
              "    }\n",
              "\n",
              "    [theme=dark] .colab-df-convert {\n",
              "      background-color: #3B4455;\n",
              "      fill: #D2E3FC;\n",
              "    }\n",
              "\n",
              "    [theme=dark] .colab-df-convert:hover {\n",
              "      background-color: #434B5C;\n",
              "      box-shadow: 0px 1px 3px 1px rgba(0, 0, 0, 0.15);\n",
              "      filter: drop-shadow(0px 1px 2px rgba(0, 0, 0, 0.3));\n",
              "      fill: #FFFFFF;\n",
              "    }\n",
              "  </style>\n",
              "\n",
              "      <script>\n",
              "        const buttonEl =\n",
              "          document.querySelector('#df-38493cd6-5551-4c27-8f30-1a61f6efdbd9 button.colab-df-convert');\n",
              "        buttonEl.style.display =\n",
              "          google.colab.kernel.accessAllowed ? 'block' : 'none';\n",
              "\n",
              "        async function convertToInteractive(key) {\n",
              "          const element = document.querySelector('#df-38493cd6-5551-4c27-8f30-1a61f6efdbd9');\n",
              "          const dataTable =\n",
              "            await google.colab.kernel.invokeFunction('convertToInteractive',\n",
              "                                                     [key], {});\n",
              "          if (!dataTable) return;\n",
              "\n",
              "          const docLinkHtml = 'Like what you see? Visit the ' +\n",
              "            '<a target=\"_blank\" href=https://colab.research.google.com/notebooks/data_table.ipynb>data table notebook</a>'\n",
              "            + ' to learn more about interactive tables.';\n",
              "          element.innerHTML = '';\n",
              "          dataTable['output_type'] = 'display_data';\n",
              "          await google.colab.output.renderOutput(dataTable, element);\n",
              "          const docLink = document.createElement('div');\n",
              "          docLink.innerHTML = docLinkHtml;\n",
              "          element.appendChild(docLink);\n",
              "        }\n",
              "      </script>\n",
              "    </div>\n",
              "  </div>\n",
              "  "
            ],
            "text/plain": [
              "   RowNumber  CustomerId   Surname  CreditScore Geography  Gender  Age  \\\n",
              "0          1    15634602  Hargrave          619    France  Female   42   \n",
              "1          2    15647311      Hill          608     Spain  Female   41   \n",
              "2          3    15619304      Onio          502    France  Female   42   \n",
              "3          4    15701354      Boni          699    France  Female   39   \n",
              "4          5    15737888  Mitchell          850     Spain  Female   43   \n",
              "\n",
              "   Tenure    Balance  NumOfProducts  HasCrCard  IsActiveMember  \\\n",
              "0       2      0.000              1          1               1   \n",
              "1       1  83807.860              1          0               1   \n",
              "2       8 159660.800              3          1               0   \n",
              "3       1      0.000              2          0               0   \n",
              "4       2 125510.820              1          1               1   \n",
              "\n",
              "   EstimatedSalary  Exited  \n",
              "0       101348.880       1  \n",
              "1       112542.580       0  \n",
              "2       113931.570       1  \n",
              "3        93826.630       0  \n",
              "4        79084.100       0  "
            ]
          },
          "execution_count": 5,
          "metadata": {},
          "output_type": "execute_result"
        }
      ],
      "source": [
        "df.head()"
      ]
    },
    {
      "cell_type": "code",
      "execution_count": null,
      "metadata": {
        "colab": {
          "base_uri": "https://localhost:8080/"
        },
        "id": "UfOmnaxGyIDE",
        "outputId": "62999135-aaa9-4096-9a2b-38018095fb0d"
      },
      "outputs": [
        {
          "name": "stdout",
          "output_type": "stream",
          "text": [
            "<class 'pandas.core.frame.DataFrame'>\n",
            "RangeIndex: 10000 entries, 0 to 9999\n",
            "Data columns (total 14 columns):\n",
            " #   Column           Non-Null Count  Dtype  \n",
            "---  ------           --------------  -----  \n",
            " 0   RowNumber        10000 non-null  int64  \n",
            " 1   CustomerId       10000 non-null  int64  \n",
            " 2   Surname          10000 non-null  object \n",
            " 3   CreditScore      10000 non-null  int64  \n",
            " 4   Geography        10000 non-null  object \n",
            " 5   Gender           10000 non-null  object \n",
            " 6   Age              10000 non-null  int64  \n",
            " 7   Tenure           10000 non-null  int64  \n",
            " 8   Balance          10000 non-null  float64\n",
            " 9   NumOfProducts    10000 non-null  int64  \n",
            " 10  HasCrCard        10000 non-null  int64  \n",
            " 11  IsActiveMember   10000 non-null  int64  \n",
            " 12  EstimatedSalary  10000 non-null  float64\n",
            " 13  Exited           10000 non-null  int64  \n",
            "dtypes: float64(2), int64(9), object(3)\n",
            "memory usage: 1.1+ MB\n"
          ]
        }
      ],
      "source": [
        "df.info()"
      ]
    },
    {
      "cell_type": "code",
      "execution_count": null,
      "metadata": {
        "colab": {
          "base_uri": "https://localhost:8080/",
          "height": 364
        },
        "id": "YM4Ynyz6yIDE",
        "outputId": "3fa9cc4f-2e39-4b2d-c6f2-289d41e283aa"
      },
      "outputs": [
        {
          "data": {
            "text/html": [
              "\n",
              "  <div id=\"df-3b8a4c4b-6b29-4f7a-b7a6-e7762db77e51\">\n",
              "    <div class=\"colab-df-container\">\n",
              "      <div>\n",
              "<style scoped>\n",
              "    .dataframe tbody tr th:only-of-type {\n",
              "        vertical-align: middle;\n",
              "    }\n",
              "\n",
              "    .dataframe tbody tr th {\n",
              "        vertical-align: top;\n",
              "    }\n",
              "\n",
              "    .dataframe thead th {\n",
              "        text-align: right;\n",
              "    }\n",
              "</style>\n",
              "<table border=\"1\" class=\"dataframe\">\n",
              "  <thead>\n",
              "    <tr style=\"text-align: right;\">\n",
              "      <th></th>\n",
              "      <th>RowNumber</th>\n",
              "      <th>CustomerId</th>\n",
              "      <th>CreditScore</th>\n",
              "      <th>Age</th>\n",
              "      <th>Tenure</th>\n",
              "      <th>Balance</th>\n",
              "      <th>NumOfProducts</th>\n",
              "      <th>HasCrCard</th>\n",
              "      <th>IsActiveMember</th>\n",
              "      <th>EstimatedSalary</th>\n",
              "      <th>Exited</th>\n",
              "    </tr>\n",
              "  </thead>\n",
              "  <tbody>\n",
              "    <tr>\n",
              "      <th>count</th>\n",
              "      <td>10000.000</td>\n",
              "      <td>10000.000</td>\n",
              "      <td>10000.000</td>\n",
              "      <td>10000.000</td>\n",
              "      <td>10000.000</td>\n",
              "      <td>10000.000</td>\n",
              "      <td>10000.000</td>\n",
              "      <td>10000.000</td>\n",
              "      <td>10000.000</td>\n",
              "      <td>10000.000</td>\n",
              "      <td>10000.000</td>\n",
              "    </tr>\n",
              "    <tr>\n",
              "      <th>mean</th>\n",
              "      <td>5000.500</td>\n",
              "      <td>15690940.569</td>\n",
              "      <td>650.529</td>\n",
              "      <td>38.922</td>\n",
              "      <td>5.013</td>\n",
              "      <td>76485.889</td>\n",
              "      <td>1.530</td>\n",
              "      <td>0.706</td>\n",
              "      <td>0.515</td>\n",
              "      <td>100090.240</td>\n",
              "      <td>0.204</td>\n",
              "    </tr>\n",
              "    <tr>\n",
              "      <th>std</th>\n",
              "      <td>2886.896</td>\n",
              "      <td>71936.186</td>\n",
              "      <td>96.653</td>\n",
              "      <td>10.488</td>\n",
              "      <td>2.892</td>\n",
              "      <td>62397.405</td>\n",
              "      <td>0.582</td>\n",
              "      <td>0.456</td>\n",
              "      <td>0.500</td>\n",
              "      <td>57510.493</td>\n",
              "      <td>0.403</td>\n",
              "    </tr>\n",
              "    <tr>\n",
              "      <th>min</th>\n",
              "      <td>1.000</td>\n",
              "      <td>15565701.000</td>\n",
              "      <td>350.000</td>\n",
              "      <td>18.000</td>\n",
              "      <td>0.000</td>\n",
              "      <td>0.000</td>\n",
              "      <td>1.000</td>\n",
              "      <td>0.000</td>\n",
              "      <td>0.000</td>\n",
              "      <td>11.580</td>\n",
              "      <td>0.000</td>\n",
              "    </tr>\n",
              "    <tr>\n",
              "      <th>25%</th>\n",
              "      <td>2500.750</td>\n",
              "      <td>15628528.250</td>\n",
              "      <td>584.000</td>\n",
              "      <td>32.000</td>\n",
              "      <td>3.000</td>\n",
              "      <td>0.000</td>\n",
              "      <td>1.000</td>\n",
              "      <td>0.000</td>\n",
              "      <td>0.000</td>\n",
              "      <td>51002.110</td>\n",
              "      <td>0.000</td>\n",
              "    </tr>\n",
              "    <tr>\n",
              "      <th>50%</th>\n",
              "      <td>5000.500</td>\n",
              "      <td>15690738.000</td>\n",
              "      <td>652.000</td>\n",
              "      <td>37.000</td>\n",
              "      <td>5.000</td>\n",
              "      <td>97198.540</td>\n",
              "      <td>1.000</td>\n",
              "      <td>1.000</td>\n",
              "      <td>1.000</td>\n",
              "      <td>100193.915</td>\n",
              "      <td>0.000</td>\n",
              "    </tr>\n",
              "    <tr>\n",
              "      <th>75%</th>\n",
              "      <td>7500.250</td>\n",
              "      <td>15753233.750</td>\n",
              "      <td>718.000</td>\n",
              "      <td>44.000</td>\n",
              "      <td>7.000</td>\n",
              "      <td>127644.240</td>\n",
              "      <td>2.000</td>\n",
              "      <td>1.000</td>\n",
              "      <td>1.000</td>\n",
              "      <td>149388.247</td>\n",
              "      <td>0.000</td>\n",
              "    </tr>\n",
              "    <tr>\n",
              "      <th>max</th>\n",
              "      <td>10000.000</td>\n",
              "      <td>15815690.000</td>\n",
              "      <td>850.000</td>\n",
              "      <td>92.000</td>\n",
              "      <td>10.000</td>\n",
              "      <td>250898.090</td>\n",
              "      <td>4.000</td>\n",
              "      <td>1.000</td>\n",
              "      <td>1.000</td>\n",
              "      <td>199992.480</td>\n",
              "      <td>1.000</td>\n",
              "    </tr>\n",
              "  </tbody>\n",
              "</table>\n",
              "</div>\n",
              "      <button class=\"colab-df-convert\" onclick=\"convertToInteractive('df-3b8a4c4b-6b29-4f7a-b7a6-e7762db77e51')\"\n",
              "              title=\"Convert this dataframe to an interactive table.\"\n",
              "              style=\"display:none;\">\n",
              "        \n",
              "  <svg xmlns=\"http://www.w3.org/2000/svg\" height=\"24px\"viewBox=\"0 0 24 24\"\n",
              "       width=\"24px\">\n",
              "    <path d=\"M0 0h24v24H0V0z\" fill=\"none\"/>\n",
              "    <path d=\"M18.56 5.44l.94 2.06.94-2.06 2.06-.94-2.06-.94-.94-2.06-.94 2.06-2.06.94zm-11 1L8.5 8.5l.94-2.06 2.06-.94-2.06-.94L8.5 2.5l-.94 2.06-2.06.94zm10 10l.94 2.06.94-2.06 2.06-.94-2.06-.94-.94-2.06-.94 2.06-2.06.94z\"/><path d=\"M17.41 7.96l-1.37-1.37c-.4-.4-.92-.59-1.43-.59-.52 0-1.04.2-1.43.59L10.3 9.45l-7.72 7.72c-.78.78-.78 2.05 0 2.83L4 21.41c.39.39.9.59 1.41.59.51 0 1.02-.2 1.41-.59l7.78-7.78 2.81-2.81c.8-.78.8-2.07 0-2.86zM5.41 20L4 18.59l7.72-7.72 1.47 1.35L5.41 20z\"/>\n",
              "  </svg>\n",
              "      </button>\n",
              "      \n",
              "  <style>\n",
              "    .colab-df-container {\n",
              "      display:flex;\n",
              "      flex-wrap:wrap;\n",
              "      gap: 12px;\n",
              "    }\n",
              "\n",
              "    .colab-df-convert {\n",
              "      background-color: #E8F0FE;\n",
              "      border: none;\n",
              "      border-radius: 50%;\n",
              "      cursor: pointer;\n",
              "      display: none;\n",
              "      fill: #1967D2;\n",
              "      height: 32px;\n",
              "      padding: 0 0 0 0;\n",
              "      width: 32px;\n",
              "    }\n",
              "\n",
              "    .colab-df-convert:hover {\n",
              "      background-color: #E2EBFA;\n",
              "      box-shadow: 0px 1px 2px rgba(60, 64, 67, 0.3), 0px 1px 3px 1px rgba(60, 64, 67, 0.15);\n",
              "      fill: #174EA6;\n",
              "    }\n",
              "\n",
              "    [theme=dark] .colab-df-convert {\n",
              "      background-color: #3B4455;\n",
              "      fill: #D2E3FC;\n",
              "    }\n",
              "\n",
              "    [theme=dark] .colab-df-convert:hover {\n",
              "      background-color: #434B5C;\n",
              "      box-shadow: 0px 1px 3px 1px rgba(0, 0, 0, 0.15);\n",
              "      filter: drop-shadow(0px 1px 2px rgba(0, 0, 0, 0.3));\n",
              "      fill: #FFFFFF;\n",
              "    }\n",
              "  </style>\n",
              "\n",
              "      <script>\n",
              "        const buttonEl =\n",
              "          document.querySelector('#df-3b8a4c4b-6b29-4f7a-b7a6-e7762db77e51 button.colab-df-convert');\n",
              "        buttonEl.style.display =\n",
              "          google.colab.kernel.accessAllowed ? 'block' : 'none';\n",
              "\n",
              "        async function convertToInteractive(key) {\n",
              "          const element = document.querySelector('#df-3b8a4c4b-6b29-4f7a-b7a6-e7762db77e51');\n",
              "          const dataTable =\n",
              "            await google.colab.kernel.invokeFunction('convertToInteractive',\n",
              "                                                     [key], {});\n",
              "          if (!dataTable) return;\n",
              "\n",
              "          const docLinkHtml = 'Like what you see? Visit the ' +\n",
              "            '<a target=\"_blank\" href=https://colab.research.google.com/notebooks/data_table.ipynb>data table notebook</a>'\n",
              "            + ' to learn more about interactive tables.';\n",
              "          element.innerHTML = '';\n",
              "          dataTable['output_type'] = 'display_data';\n",
              "          await google.colab.output.renderOutput(dataTable, element);\n",
              "          const docLink = document.createElement('div');\n",
              "          docLink.innerHTML = docLinkHtml;\n",
              "          element.appendChild(docLink);\n",
              "        }\n",
              "      </script>\n",
              "    </div>\n",
              "  </div>\n",
              "  "
            ],
            "text/plain": [
              "       RowNumber   CustomerId  CreditScore       Age    Tenure    Balance  \\\n",
              "count  10000.000    10000.000    10000.000 10000.000 10000.000  10000.000   \n",
              "mean    5000.500 15690940.569      650.529    38.922     5.013  76485.889   \n",
              "std     2886.896    71936.186       96.653    10.488     2.892  62397.405   \n",
              "min        1.000 15565701.000      350.000    18.000     0.000      0.000   \n",
              "25%     2500.750 15628528.250      584.000    32.000     3.000      0.000   \n",
              "50%     5000.500 15690738.000      652.000    37.000     5.000  97198.540   \n",
              "75%     7500.250 15753233.750      718.000    44.000     7.000 127644.240   \n",
              "max    10000.000 15815690.000      850.000    92.000    10.000 250898.090   \n",
              "\n",
              "       NumOfProducts  HasCrCard  IsActiveMember  EstimatedSalary    Exited  \n",
              "count      10000.000  10000.000       10000.000        10000.000 10000.000  \n",
              "mean           1.530      0.706           0.515       100090.240     0.204  \n",
              "std            0.582      0.456           0.500        57510.493     0.403  \n",
              "min            1.000      0.000           0.000           11.580     0.000  \n",
              "25%            1.000      0.000           0.000        51002.110     0.000  \n",
              "50%            1.000      1.000           1.000       100193.915     0.000  \n",
              "75%            2.000      1.000           1.000       149388.247     0.000  \n",
              "max            4.000      1.000           1.000       199992.480     1.000  "
            ]
          },
          "execution_count": 7,
          "metadata": {},
          "output_type": "execute_result"
        }
      ],
      "source": [
        "df.describe()"
      ]
    },
    {
      "cell_type": "code",
      "execution_count": null,
      "metadata": {
        "id": "DuY20Sn7yIDE"
      },
      "outputs": [],
      "source": [
        "df.drop([\"RowNumber\", \"CustomerId\", \"Surname\"], axis=1, inplace=True )\n",
        "# Target a etkisi olmayacak featureları çıkarttım."
      ]
    },
    {
      "cell_type": "code",
      "execution_count": null,
      "metadata": {
        "colab": {
          "base_uri": "https://localhost:8080/"
        },
        "id": "k2Q7El9nyIDF",
        "outputId": "ca045030-1aea-478b-8b92-ee74c7570d8e"
      },
      "outputs": [
        {
          "data": {
            "text/plain": [
              "Male      5457\n",
              "Female    4543\n",
              "Name: Gender, dtype: int64"
            ]
          },
          "execution_count": 9,
          "metadata": {},
          "output_type": "execute_result"
        }
      ],
      "source": [
        "df.Gender.value_counts()"
      ]
    },
    {
      "cell_type": "code",
      "execution_count": null,
      "metadata": {
        "colab": {
          "base_uri": "https://localhost:8080/"
        },
        "id": "3ITEp4hnyIDF",
        "outputId": "33bbecd5-ef29-4795-c989-055c93c14b9d"
      },
      "outputs": [
        {
          "data": {
            "text/plain": [
              "France     5014\n",
              "Germany    2509\n",
              "Spain      2477\n",
              "Name: Geography, dtype: int64"
            ]
          },
          "execution_count": 10,
          "metadata": {},
          "output_type": "execute_result"
        }
      ],
      "source": [
        "df[\"Geography\"].value_counts()"
      ]
    },
    {
      "cell_type": "code",
      "execution_count": null,
      "metadata": {
        "colab": {
          "base_uri": "https://localhost:8080/",
          "height": 388
        },
        "id": "kn3MyNwdyIDF",
        "outputId": "1a4559eb-fbf1-4e73-be13-74e5b94720d8"
      },
      "outputs": [
        {
          "data": {
            "image/png": "[encoded data removed]",
            "text/plain": [
              "<Figure size 720x432 with 1 Axes>"
            ]
          },
          "metadata": {},
          "output_type": "display_data"
        }
      ],
      "source": [
        "sns.countplot(df.Exited);"
      ]
    },
    {
      "cell_type": "code",
      "execution_count": null,
      "metadata": {
        "colab": {
          "base_uri": "https://localhost:8080/",
          "height": 685
        },
        "id": "gGHFHaosyIDF",
        "outputId": "3aaaf126-01bb-4ba7-be9f-4da49f39b6ed"
      },
      "outputs": [
        {
          "data": {
            "text/plain": [
              "<matplotlib.axes._subplots.AxesSubplot at 0x7fa70917ff70>"
            ]
          },
          "execution_count": 12,
          "metadata": {},
          "output_type": "execute_result"
        },
        {
          "data": {
            "image/png": "[encoded data removed]",
            "text/plain": [
              "<Figure size 720x720 with 2 Axes>"
            ]
          },
          "metadata": {},
          "output_type": "display_data"
        }
      ],
      "source": [
        "plt.figure(figsize=(10,10))\n",
        "sns.heatmap(df.corr(), annot=True)\n",
        "# korelasyonlar çok düşük"
      ]
    },
    {
      "cell_type": "code",
      "execution_count": null,
      "metadata": {
        "id": "fUG2o74HyIDF"
      },
      "outputs": [],
      "source": [
        "X = df.drop(\"Exited\", axis=1)\n",
        "y = df[\"Exited\"]"
      ]
    },
    {
      "cell_type": "markdown",
      "metadata": {
        "id": "zMleP0COyIDG"
      },
      "source": [
        "# Preprocessing of Data\n",
        "- Train | Test Split, Scalling"
      ]
    },
    {
      "cell_type": "code",
      "execution_count": null,
      "metadata": {
        "id": "btdvQdg_yIDG"
      },
      "outputs": [],
      "source": [
        "from sklearn.model_selection import train_test_split\n",
        "from sklearn.preprocessing import OrdinalEncoder, MinMaxScaler, StandardScaler\n",
        "from sklearn.compose import make_column_transformer"
      ]
    },
    {
      "cell_type": "code",
      "execution_count": null,
      "metadata": {
        "id": "kXqzjgafyIDG"
      },
      "outputs": [],
      "source": [
        "X_train, X_test, y_train, y_test = train_test_split(X, y, test_size=0.15, stratify=y, random_state=42)"
      ]
    },
    {
      "cell_type": "code",
      "execution_count": null,
      "metadata": {
        "id": "d13y4uOyyIDG"
      },
      "outputs": [],
      "source": [
        "cat = df.select_dtypes(\"object\").columns\n",
        "enc = OrdinalEncoder(handle_unknown=\"error\")\n",
        "scaler = MinMaxScaler()"
      ]
    },
    {
      "cell_type": "code",
      "execution_count": null,
      "metadata": {
        "id": "Vzlemb59yIDG"
      },
      "outputs": [],
      "source": [
        "# make_column_transformer((StandardScaler(), ['numerical_column']),(OrdinalEncoder(), ['categorical_column']))"
      ]
    },
    {
      "cell_type": "code",
      "execution_count": null,
      "metadata": {
        "id": "VWFilSJIyIDG"
      },
      "outputs": [],
      "source": [
        "column_trans = make_column_transformer((enc, cat), remainder=MinMaxScaler())"
      ]
    },
    {
      "cell_type": "code",
      "execution_count": null,
      "metadata": {
        "id": "2Ehnl0H6yIDG"
      },
      "outputs": [],
      "source": [
        "X_train = column_trans.fit_transform(X_train)\n",
        "X_test = column_trans.transform(X_test)"
      ]
    },
    {
      "cell_type": "code",
      "execution_count": null,
      "metadata": {
        "id": "zP-aCEwmyIDH"
      },
      "outputs": [],
      "source": [
        "# X_train= pd.DataFrame(column_trans.fit_transform(X_train), columns=features, index=X_train.index)\n",
        "# X_test= pd.DataFrame(column_trans.transform(X_test), columns=features, index=X_test.index)"
      ]
    },
    {
      "cell_type": "code",
      "execution_count": null,
      "metadata": {
        "id": "q8t6r82ryIDH"
      },
      "outputs": [],
      "source": [
        "import tensorflow as tf\n",
        "from tensorflow.keras.models import Sequential\n",
        "from tensorflow.keras.layers import Dense, Activation\n",
        "from tensorflow.keras.callbacks import EarlyStopping\n",
        "from tensorflow.keras.optimizers import Adam\n",
        "from sklearn.metrics import classification_report, confusion_matrix\n",
        "from sklearn.metrics import plot_roc_curve, roc_auc_score, roc_curve\n",
        "from sklearn.model_selection import cross_val_score, cross_validate\n",
        "from sklearn.model_selection import GridSearchCV\n"
      ]
    },
    {
      "cell_type": "code",
      "execution_count": null,
      "metadata": {
        "colab": {
          "base_uri": "https://localhost:8080/"
        },
        "id": "nEx8OEGOyIDH",
        "outputId": "5a447110-4a18-4a99-f257-4656dfc734ca"
      },
      "outputs": [
        {
          "data": {
            "text/plain": [
              "((8500, 10), (1500, 10))"
            ]
          },
          "execution_count": 28,
          "metadata": {},
          "output_type": "execute_result"
        }
      ],
      "source": [
        "X_train.shape, X_test.shape"
      ]
    },
    {
      "cell_type": "code",
      "execution_count": null,
      "metadata": {
        "id": "pz2Qq33CyIDH"
      },
      "outputs": [],
      "source": [
        "tf.random.set_seed(42)\n",
        "\n",
        "model = Sequential()\n",
        "\n",
        "model.add(Dense(20, activation = \"relu\", input_dim = X_train.shape[1]))\n",
        "model.add(Dense(10, activation = \"relu\"))\n",
        "model.add(Dense(5, activation = \"relu\"))\n",
        "model.add(Dense(1, activation = \"sigmoid\"))\n",
        "\n",
        "model.compile(optimizer = \"adam\", loss = \"binary_crossentropy\", metrics = [\"accuracy\"])"
      ]
    },
    {
      "cell_type": "code",
      "execution_count": null,
      "metadata": {
        "id": "q_oNBfEPfr9s"
      },
      "outputs": [],
      "source": [
        "early_stop = EarlyStopping(monitor=\"val_loss\",\n",
        "                           mode=\"auto\",\n",
        "                           verbose=1,\n",
        "                           patience=10,\n",
        "                           restore_best_weights=True)"
      ]
    },
    {
      "cell_type": "code",
      "execution_count": null,
      "metadata": {
        "colab": {
          "base_uri": "https://localhost:8080/"
        },
        "id": "VrCx_KOKyIDH",
        "outputId": "4bde16ca-09ef-4e1e-f641-070cd03d4759"
      },
      "outputs": [
        {
          "name": "stdout",
          "output_type": "stream",
          "text": [
            "Epoch 1/200\n",
            "240/240 [==============================] - 3s 3ms/step - loss: 0.5448 - accuracy: 0.7749 - val_loss: 0.4908 - val_accuracy: 0.8000\n",
            "Epoch 2/200\n",
            "240/240 [==============================] - 0s 2ms/step - loss: 0.4794 - accuracy: 0.7959 - val_loss: 0.4751 - val_accuracy: 0.8000\n",
            "Epoch 3/200\n",
            "240/240 [==============================] - 1s 2ms/step - loss: 0.4586 - accuracy: 0.7970 - val_loss: 0.4633 - val_accuracy: 0.8024\n",
            "Epoch 4/200\n",
            "240/240 [==============================] - 1s 2ms/step - loss: 0.4394 - accuracy: 0.8108 - val_loss: 0.4555 - val_accuracy: 0.8071\n",
            "Epoch 5/200\n",
            "240/240 [==============================] - 1s 2ms/step - loss: 0.4297 - accuracy: 0.8148 - val_loss: 0.4500 - val_accuracy: 0.8024\n",
            "Epoch 6/200\n",
            "240/240 [==============================] - 1s 2ms/step - loss: 0.4230 - accuracy: 0.8156 - val_loss: 0.4449 - val_accuracy: 0.8012\n",
            "Epoch 7/200\n",
            "240/240 [==============================] - 0s 2ms/step - loss: 0.4172 - accuracy: 0.8166 - val_loss: 0.4390 - val_accuracy: 0.8012\n",
            "Epoch 8/200\n",
            "240/240 [==============================] - 0s 2ms/step - loss: 0.4110 - accuracy: 0.8218 - val_loss: 0.4337 - val_accuracy: 0.8071\n",
            "Epoch 9/200\n",
            "240/240 [==============================] - 1s 2ms/step - loss: 0.4067 - accuracy: 0.8237 - val_loss: 0.4302 - val_accuracy: 0.8094\n",
            "Epoch 10/200\n",
            "240/240 [==============================] - 0s 2ms/step - loss: 0.4019 - accuracy: 0.8286 - val_loss: 0.4236 - val_accuracy: 0.8224\n",
            "Epoch 11/200\n",
            "240/240 [==============================] - 1s 2ms/step - loss: 0.3958 - accuracy: 0.8353 - val_loss: 0.4168 - val_accuracy: 0.8282\n",
            "Epoch 12/200\n",
            "240/240 [==============================] - 1s 6ms/step - loss: 0.3902 - accuracy: 0.8348 - val_loss: 0.4105 - val_accuracy: 0.8271\n",
            "Epoch 13/200\n",
            "240/240 [==============================] - 1s 3ms/step - loss: 0.3854 - accuracy: 0.8387 - val_loss: 0.4072 - val_accuracy: 0.8282\n",
            "Epoch 14/200\n",
            "240/240 [==============================] - 1s 2ms/step - loss: 0.3801 - accuracy: 0.8396 - val_loss: 0.4019 - val_accuracy: 0.8400\n",
            "Epoch 15/200\n",
            "240/240 [==============================] - 1s 2ms/step - loss: 0.3767 - accuracy: 0.8403 - val_loss: 0.3944 - val_accuracy: 0.8471\n",
            "Epoch 16/200\n",
            "240/240 [==============================] - 1s 2ms/step - loss: 0.3730 - accuracy: 0.8418 - val_loss: 0.3870 - val_accuracy: 0.8424\n",
            "Epoch 17/200\n",
            "240/240 [==============================] - 1s 2ms/step - loss: 0.3679 - accuracy: 0.8437 - val_loss: 0.3829 - val_accuracy: 0.8412\n",
            "Epoch 18/200\n",
            "240/240 [==============================] - 1s 2ms/step - loss: 0.3644 - accuracy: 0.8444 - val_loss: 0.3816 - val_accuracy: 0.8506\n",
            "Epoch 19/200\n",
            "240/240 [==============================] - 1s 2ms/step - loss: 0.3633 - accuracy: 0.8467 - val_loss: 0.3779 - val_accuracy: 0.8459\n",
            "Epoch 20/200\n",
            "240/240 [==============================] - 1s 2ms/step - loss: 0.3596 - accuracy: 0.8498 - val_loss: 0.3690 - val_accuracy: 0.8447\n",
            "Epoch 21/200\n",
            "240/240 [==============================] - 1s 2ms/step - loss: 0.3564 - accuracy: 0.8510 - val_loss: 0.3712 - val_accuracy: 0.8541\n",
            "Epoch 22/200\n",
            "240/240 [==============================] - 1s 3ms/step - loss: 0.3556 - accuracy: 0.8519 - val_loss: 0.3621 - val_accuracy: 0.8553\n",
            "Epoch 23/200\n",
            "240/240 [==============================] - 1s 3ms/step - loss: 0.3523 - accuracy: 0.8520 - val_loss: 0.3564 - val_accuracy: 0.8612\n",
            "Epoch 24/200\n",
            "240/240 [==============================] - 0s 2ms/step - loss: 0.3501 - accuracy: 0.8539 - val_loss: 0.3581 - val_accuracy: 0.8529\n",
            "Epoch 25/200\n",
            "240/240 [==============================] - 1s 2ms/step - loss: 0.3511 - accuracy: 0.8535 - val_loss: 0.3534 - val_accuracy: 0.8600\n",
            "Epoch 26/200\n",
            "240/240 [==============================] - 1s 2ms/step - loss: 0.3481 - accuracy: 0.8532 - val_loss: 0.3538 - val_accuracy: 0.8659\n",
            "Epoch 27/200\n",
            "240/240 [==============================] - 0s 2ms/step - loss: 0.3472 - accuracy: 0.8542 - val_loss: 0.3523 - val_accuracy: 0.8659\n",
            "Epoch 28/200\n",
            "240/240 [==============================] - 1s 2ms/step - loss: 0.3455 - accuracy: 0.8540 - val_loss: 0.3496 - val_accuracy: 0.8588\n",
            "Epoch 29/200\n",
            "240/240 [==============================] - 1s 2ms/step - loss: 0.3449 - accuracy: 0.8578 - val_loss: 0.3487 - val_accuracy: 0.8612\n",
            "Epoch 30/200\n",
            "240/240 [==============================] - 1s 2ms/step - loss: 0.3445 - accuracy: 0.8559 - val_loss: 0.3464 - val_accuracy: 0.8671\n",
            "Epoch 31/200\n",
            "240/240 [==============================] - 1s 2ms/step - loss: 0.3433 - accuracy: 0.8579 - val_loss: 0.3464 - val_accuracy: 0.8612\n",
            "Epoch 32/200\n",
            "240/240 [==============================] - 0s 2ms/step - loss: 0.3425 - accuracy: 0.8604 - val_loss: 0.3443 - val_accuracy: 0.8671\n",
            "Epoch 33/200\n",
            "240/240 [==============================] - 1s 2ms/step - loss: 0.3410 - accuracy: 0.8588 - val_loss: 0.3518 - val_accuracy: 0.8647\n",
            "Epoch 34/200\n",
            "240/240 [==============================] - 1s 2ms/step - loss: 0.3405 - accuracy: 0.8604 - val_loss: 0.3469 - val_accuracy: 0.8635\n",
            "Epoch 35/200\n",
            "240/240 [==============================] - 1s 2ms/step - loss: 0.3414 - accuracy: 0.8575 - val_loss: 0.3436 - val_accuracy: 0.8659\n",
            "Epoch 36/200\n",
            "240/240 [==============================] - 0s 2ms/step - loss: 0.3393 - accuracy: 0.8610 - val_loss: 0.3456 - val_accuracy: 0.8612\n",
            "Epoch 37/200\n",
            "240/240 [==============================] - 1s 2ms/step - loss: 0.3385 - accuracy: 0.8604 - val_loss: 0.3406 - val_accuracy: 0.8682\n",
            "Epoch 38/200\n",
            "240/240 [==============================] - 1s 3ms/step - loss: 0.3378 - accuracy: 0.8609 - val_loss: 0.3398 - val_accuracy: 0.8671\n",
            "Epoch 39/200\n",
            "240/240 [==============================] - 1s 2ms/step - loss: 0.3370 - accuracy: 0.8610 - val_loss: 0.3424 - val_accuracy: 0.8647\n",
            "Epoch 40/200\n",
            "240/240 [==============================] - 1s 2ms/step - loss: 0.3367 - accuracy: 0.8630 - val_loss: 0.3443 - val_accuracy: 0.8706\n",
            "Epoch 41/200\n",
            "240/240 [==============================] - 1s 2ms/step - loss: 0.3356 - accuracy: 0.8626 - val_loss: 0.3425 - val_accuracy: 0.8694\n",
            "Epoch 42/200\n",
            "240/240 [==============================] - 0s 2ms/step - loss: 0.3347 - accuracy: 0.8617 - val_loss: 0.3439 - val_accuracy: 0.8659\n",
            "Epoch 43/200\n",
            "240/240 [==============================] - 1s 2ms/step - loss: 0.3339 - accuracy: 0.8629 - val_loss: 0.3408 - val_accuracy: 0.8647\n",
            "Epoch 44/200\n",
            "240/240 [==============================] - 1s 2ms/step - loss: 0.3347 - accuracy: 0.8599 - val_loss: 0.3508 - val_accuracy: 0.8659\n",
            "Epoch 45/200\n",
            "240/240 [==============================] - 1s 2ms/step - loss: 0.3343 - accuracy: 0.8612 - val_loss: 0.3547 - val_accuracy: 0.8624\n",
            "Epoch 46/200\n",
            "240/240 [==============================] - 1s 2ms/step - loss: 0.3356 - accuracy: 0.8605 - val_loss: 0.3401 - val_accuracy: 0.8659\n",
            "Epoch 47/200\n",
            "240/240 [==============================] - 1s 2ms/step - loss: 0.3329 - accuracy: 0.8622 - val_loss: 0.3407 - val_accuracy: 0.8671\n",
            "Epoch 48/200\n",
            "222/240 [==========================>...] - ETA: 0s - loss: 0.3318 - accuracy: 0.8635Restoring model weights from the end of the best epoch: 38.\n",
            "240/240 [==============================] - 1s 2ms/step - loss: 0.3346 - accuracy: 0.8620 - val_loss: 0.3410 - val_accuracy: 0.8635\n",
            "Epoch 48: early stopping\n"
          ]
        },
        {
          "data": {
            "text/plain": [
              "<keras.callbacks.History at 0x7fa6a884d1f0>"
            ]
          },
          "execution_count": 32,
          "metadata": {},
          "output_type": "execute_result"
        }
      ],
      "source": [
        "model.fit(x = X_train, y = y_train, validation_split = 0.1, batch_size = 32, epochs = 200, verbose=1,\n",
        "         callbacks=[early_stop])"
      ]
    },
    {
      "cell_type": "code",
      "execution_count": null,
      "metadata": {
        "colab": {
          "base_uri": "https://localhost:8080/"
        },
        "id": "gaIyuYx0yIDH",
        "outputId": "6fd0a733-70c3-4490-ef01-25018e096505"
      },
      "outputs": [
        {
          "name": "stdout",
          "output_type": "stream",
          "text": [
            "Model: \"sequential\"\n",
            "_________________________________________________________________\n",
            " Layer (type)                Output Shape              Param #   \n",
            "=================================================================\n",
            " dense (Dense)               (None, 20)                220       \n",
            "                                                                 \n",
            " dense_1 (Dense)             (None, 10)                210       \n",
            "                                                                 \n",
            " dense_2 (Dense)             (None, 5)                 55        \n",
            "                                                                 \n",
            " dense_3 (Dense)             (None, 1)                 6         \n",
            "                                                                 \n",
            "=================================================================\n",
            "Total params: 491\n",
            "Trainable params: 491\n",
            "Non-trainable params: 0\n",
            "_________________________________________________________________\n"
          ]
        }
      ],
      "source": [
        "model.summary()"
      ]
    },
    {
      "cell_type": "code",
      "execution_count": null,
      "metadata": {
        "colab": {
          "base_uri": "https://localhost:8080/",
          "height": 206
        },
        "id": "NbpaatQE7gED",
        "outputId": "f257763e-1fec-46fb-cbf2-1ba1fe0bc2ea"
      },
      "outputs": [
        {
          "data": {
            "text/html": [
              "\n",
              "  <div id=\"df-486c0462-ae8a-4067-8371-8f4837472072\">\n",
              "    <div class=\"colab-df-container\">\n",
              "      <div>\n",
              "<style scoped>\n",
              "    .dataframe tbody tr th:only-of-type {\n",
              "        vertical-align: middle;\n",
              "    }\n",
              "\n",
              "    .dataframe tbody tr th {\n",
              "        vertical-align: top;\n",
              "    }\n",
              "\n",
              "    .dataframe thead th {\n",
              "        text-align: right;\n",
              "    }\n",
              "</style>\n",
              "<table border=\"1\" class=\"dataframe\">\n",
              "  <thead>\n",
              "    <tr style=\"text-align: right;\">\n",
              "      <th></th>\n",
              "      <th>loss</th>\n",
              "      <th>accuracy</th>\n",
              "      <th>val_loss</th>\n",
              "      <th>val_accuracy</th>\n",
              "    </tr>\n",
              "  </thead>\n",
              "  <tbody>\n",
              "    <tr>\n",
              "      <th>0</th>\n",
              "      <td>0.545</td>\n",
              "      <td>0.775</td>\n",
              "      <td>0.491</td>\n",
              "      <td>0.800</td>\n",
              "    </tr>\n",
              "    <tr>\n",
              "      <th>1</th>\n",
              "      <td>0.479</td>\n",
              "      <td>0.796</td>\n",
              "      <td>0.475</td>\n",
              "      <td>0.800</td>\n",
              "    </tr>\n",
              "    <tr>\n",
              "      <th>2</th>\n",
              "      <td>0.459</td>\n",
              "      <td>0.797</td>\n",
              "      <td>0.463</td>\n",
              "      <td>0.802</td>\n",
              "    </tr>\n",
              "    <tr>\n",
              "      <th>3</th>\n",
              "      <td>0.439</td>\n",
              "      <td>0.811</td>\n",
              "      <td>0.455</td>\n",
              "      <td>0.807</td>\n",
              "    </tr>\n",
              "    <tr>\n",
              "      <th>4</th>\n",
              "      <td>0.430</td>\n",
              "      <td>0.815</td>\n",
              "      <td>0.450</td>\n",
              "      <td>0.802</td>\n",
              "    </tr>\n",
              "  </tbody>\n",
              "</table>\n",
              "</div>\n",
              "      <button class=\"colab-df-convert\" onclick=\"convertToInteractive('df-486c0462-ae8a-4067-8371-8f4837472072')\"\n",
              "              title=\"Convert this dataframe to an interactive table.\"\n",
              "              style=\"display:none;\">\n",
              "        \n",
              "  <svg xmlns=\"http://www.w3.org/2000/svg\" height=\"24px\"viewBox=\"0 0 24 24\"\n",
              "       width=\"24px\">\n",
              "    <path d=\"M0 0h24v24H0V0z\" fill=\"none\"/>\n",
              "    <path d=\"M18.56 5.44l.94 2.06.94-2.06 2.06-.94-2.06-.94-.94-2.06-.94 2.06-2.06.94zm-11 1L8.5 8.5l.94-2.06 2.06-.94-2.06-.94L8.5 2.5l-.94 2.06-2.06.94zm10 10l.94 2.06.94-2.06 2.06-.94-2.06-.94-.94-2.06-.94 2.06-2.06.94z\"/><path d=\"M17.41 7.96l-1.37-1.37c-.4-.4-.92-.59-1.43-.59-.52 0-1.04.2-1.43.59L10.3 9.45l-7.72 7.72c-.78.78-.78 2.05 0 2.83L4 21.41c.39.39.9.59 1.41.59.51 0 1.02-.2 1.41-.59l7.78-7.78 2.81-2.81c.8-.78.8-2.07 0-2.86zM5.41 20L4 18.59l7.72-7.72 1.47 1.35L5.41 20z\"/>\n",
              "  </svg>\n",
              "      </button>\n",
              "      \n",
              "  <style>\n",
              "    .colab-df-container {\n",
              "      display:flex;\n",
              "      flex-wrap:wrap;\n",
              "      gap: 12px;\n",
              "    }\n",
              "\n",
              "    .colab-df-convert {\n",
              "      background-color: #E8F0FE;\n",
              "      border: none;\n",
              "      border-radius: 50%;\n",
              "      cursor: pointer;\n",
              "      display: none;\n",
              "      fill: #1967D2;\n",
              "      height: 32px;\n",
              "      padding: 0 0 0 0;\n",
              "      width: 32px;\n",
              "    }\n",
              "\n",
              "    .colab-df-convert:hover {\n",
              "      background-color: #E2EBFA;\n",
              "      box-shadow: 0px 1px 2px rgba(60, 64, 67, 0.3), 0px 1px 3px 1px rgba(60, 64, 67, 0.15);\n",
              "      fill: #174EA6;\n",
              "    }\n",
              "\n",
              "    [theme=dark] .colab-df-convert {\n",
              "      background-color: #3B4455;\n",
              "      fill: #D2E3FC;\n",
              "    }\n",
              "\n",
              "    [theme=dark] .colab-df-convert:hover {\n",
              "      background-color: #434B5C;\n",
              "      box-shadow: 0px 1px 3px 1px rgba(0, 0, 0, 0.15);\n",
              "      filter: drop-shadow(0px 1px 2px rgba(0, 0, 0, 0.3));\n",
              "      fill: #FFFFFF;\n",
              "    }\n",
              "  </style>\n",
              "\n",
              "      <script>\n",
              "        const buttonEl =\n",
              "          document.querySelector('#df-486c0462-ae8a-4067-8371-8f4837472072 button.colab-df-convert');\n",
              "        buttonEl.style.display =\n",
              "          google.colab.kernel.accessAllowed ? 'block' : 'none';\n",
              "\n",
              "        async function convertToInteractive(key) {\n",
              "          const element = document.querySelector('#df-486c0462-ae8a-4067-8371-8f4837472072');\n",
              "          const dataTable =\n",
              "            await google.colab.kernel.invokeFunction('convertToInteractive',\n",
              "                                                     [key], {});\n",
              "          if (!dataTable) return;\n",
              "\n",
              "          const docLinkHtml = 'Like what you see? Visit the ' +\n",
              "            '<a target=\"_blank\" href=https://colab.research.google.com/notebooks/data_table.ipynb>data table notebook</a>'\n",
              "            + ' to learn more about interactive tables.';\n",
              "          element.innerHTML = '';\n",
              "          dataTable['output_type'] = 'display_data';\n",
              "          await google.colab.output.renderOutput(dataTable, element);\n",
              "          const docLink = document.createElement('div');\n",
              "          docLink.innerHTML = docLinkHtml;\n",
              "          element.appendChild(docLink);\n",
              "        }\n",
              "      </script>\n",
              "    </div>\n",
              "  </div>\n",
              "  "
            ],
            "text/plain": [
              "   loss  accuracy  val_loss  val_accuracy\n",
              "0 0.545     0.775     0.491         0.800\n",
              "1 0.479     0.796     0.475         0.800\n",
              "2 0.459     0.797     0.463         0.802\n",
              "3 0.439     0.811     0.455         0.807\n",
              "4 0.430     0.815     0.450         0.802"
            ]
          },
          "execution_count": 34,
          "metadata": {},
          "output_type": "execute_result"
        }
      ],
      "source": [
        "loss_df = pd.DataFrame(model.history.history)\n",
        "loss_df.head()"
      ]
    },
    {
      "cell_type": "code",
      "execution_count": null,
      "metadata": {
        "colab": {
          "base_uri": "https://localhost:8080/",
          "height": 374
        },
        "id": "co-FPrxn7gB3",
        "outputId": "581c5458-6b0a-4ae7-cad8-80fb4f40e4cc"
      },
      "outputs": [
        {
          "data": {
            "image/png": "[encoded data removed]",
            "text/plain": [
              "<Figure size 720x432 with 1 Axes>"
            ]
          },
          "metadata": {},
          "output_type": "display_data"
        }
      ],
      "source": [
        "loss_df.plot();"
      ]
    },
    {
      "cell_type": "code",
      "execution_count": null,
      "metadata": {
        "colab": {
          "base_uri": "https://localhost:8080/"
        },
        "id": "sSAinw007f_3",
        "outputId": "d5fbca0c-076b-4c33-e083-b3d5848dda8b"
      },
      "outputs": [
        {
          "data": {
            "text/plain": [
              "[0.352965772151947, 0.8533333539962769]"
            ]
          },
          "execution_count": 37,
          "metadata": {},
          "output_type": "execute_result"
        }
      ],
      "source": [
        "model.evaluate(X_test_trans, y_test, verbose=0)"
      ]
    },
    {
      "cell_type": "code",
      "execution_count": null,
      "metadata": {
        "colab": {
          "base_uri": "https://localhost:8080/"
        },
        "id": "267F1Eek7f-G",
        "outputId": "d9d1c4b8-1482-4c80-e231-6edda2b85e01"
      },
      "outputs": [
        {
          "name": "stdout",
          "output_type": "stream",
          "text": [
            "loss :  0.38133618235588074\n",
            "accuracy :  0.8453333377838135\n"
          ]
        }
      ],
      "source": [
        "loss, accuracy = model.evaluate(X_test_trans, y_test, verbose=0)\n",
        "print(\"loss : \", loss)\n",
        "print(\"accuracy : \", accuracy)"
      ]
    },
    {
      "cell_type": "code",
      "execution_count": null,
      "metadata": {
        "colab": {
          "base_uri": "https://localhost:8080/"
        },
        "id": "HSaDio7J8z_C",
        "outputId": "9b7cc886-6f2f-45d0-a2b7-3caf4465af86"
      },
      "outputs": [
        {
          "name": "stdout",
          "output_type": "stream",
          "text": [
            "47/47 [==============================] - 0s 2ms/step\n",
            "[[1144   50]\n",
            " [ 170  136]]\n",
            "              precision    recall  f1-score   support\n",
            "\n",
            "           0       0.87      0.96      0.91      1194\n",
            "           1       0.73      0.44      0.55       306\n",
            "\n",
            "    accuracy                           0.85      1500\n",
            "   macro avg       0.80      0.70      0.73      1500\n",
            "weighted avg       0.84      0.85      0.84      1500\n",
            "\n"
          ]
        }
      ],
      "source": [
        "y_pred = model.predict(X_test) > 0.5\n",
        "#y_pred = model.predict_classes(X_test_trans) for tf 2.5.0\n",
        "print(confusion_matrix(y_test, y_pred))\n",
        "print(classification_report(y_test, y_pred))"
      ]
    },
    {
      "cell_type": "code",
      "execution_count": null,
      "metadata": {
        "id": "c2kA5e-29AK1"
      },
      "outputs": [],
      "source": []
    },
    {
      "cell_type": "code",
      "execution_count": null,
      "metadata": {
        "colab": {
          "base_uri": "https://localhost:8080/",
          "height": 422
        },
        "id": "k0wGsyhEyIDI",
        "outputId": "b025e001-a3cb-4831-f612-bb60ea754fec"
      },
      "outputs": [
        {
          "name": "stdout",
          "output_type": "stream",
          "text": [
            "47/47 [==============================] - 0s 1ms/step\n"
          ]
        },
        {
          "data": {
            "image/png": "[encoded data removed]",
            "text/plain": [
              "<Figure size 720x432 with 1 Axes>"
            ]
          },
          "metadata": {},
          "output_type": "display_data"
        }
      ],
      "source": [
        "y_pred_proba = model.predict(X_test)\n",
        "precisions, recalls, thresholds = precision_recall_curve(y_test, y_pred_proba)\n",
        "plt.plot(recalls, precisions, label='ANN')\n",
        "plt.xlabel('recalls')\n",
        "plt.ylabel('precisions')\n",
        "plt.title('Precision-Recall curve')\n",
        "plt.show()"
      ]
    },
    {
      "cell_type": "code",
      "execution_count": null,
      "metadata": {
        "colab": {
          "base_uri": "https://localhost:8080/"
        },
        "id": "Ie6Q0sxMyIDI",
        "outputId": "83d2f37a-a59b-4217-e0ae-eea06d86bdde"
      },
      "outputs": [
        {
          "data": {
            "text/plain": [
              "0.6753075992200182"
            ]
          },
          "execution_count": 41,
          "metadata": {},
          "output_type": "execute_result"
        }
      ],
      "source": [
        "non_weighted_pre_score = average_precision_score(y_test, y_pred_proba)\n",
        "non_weighted_pre_score"
      ]
    },
    {
      "cell_type": "code",
      "execution_count": null,
      "metadata": {
        "id": "dqW69kDk12SE"
      },
      "outputs": [],
      "source": [
        "non_weighted_f1 = f1_score(y_test, y_pred)\n",
        "non_weighted_recall = recall_score(y_test, y_pred)"
      ]
    },
    {
      "cell_type": "markdown",
      "metadata": {
        "id": "Uj8OT34zyIDI"
      },
      "source": [
        "## with class_weigth\n",
        "\n",
        "Investigate how the \"class_weight\" hyper-parameter is used in a Neural Network."
      ]
    },
    {
      "cell_type": "code",
      "execution_count": null,
      "metadata": {
        "id": "kHEr1bAX1550"
      },
      "outputs": [],
      "source": [
        "tf.random.set_seed(42)\n",
        "\n",
        "model = Sequential()\n",
        "\n",
        "model.add(Dense(16, activation=\"relu\"))\n",
        "model.add(Dense(8, activation=\"relu\"))\n",
        "model.add(Dense(1, activation=\"sigmoid\"))\n",
        "\n",
        "opt = Adam(lr=0.001)\n",
        "model.compile(optimizer=opt, \n",
        "              loss=\"binary_crossentropy\",\n",
        "              metrics=[\"Recall\"])"
      ]
    },
    {
      "cell_type": "code",
      "execution_count": null,
      "metadata": {
        "id": "S2dWahpv153W"
      },
      "outputs": [],
      "source": [
        "early_stop = EarlyStopping(monitor=\"val_loss\",\n",
        "                           mode=\"auto\",\n",
        "                           verbose=1,\n",
        "                           patience=10,\n",
        "                           restore_best_weights = True)"
      ]
    },
    {
      "cell_type": "code",
      "execution_count": null,
      "metadata": {
        "colab": {
          "base_uri": "https://localhost:8080/"
        },
        "id": "i92ZTzsL151R",
        "outputId": "e485e87c-bdad-471f-8da8-179d56e8f4fb"
      },
      "outputs": [
        {
          "data": {
            "text/plain": [
              "{0: 0.6278623134879598, 1: 2.455228191796649}"
            ]
          },
          "execution_count": 45,
          "metadata": {},
          "output_type": "execute_result"
        }
      ],
      "source": [
        "from sklearn.utils import class_weight\n",
        "\n",
        "class_weights = class_weight.compute_class_weight('balanced',\n",
        "                                                  classes=np.unique(y_train),\n",
        "                                                  y=y_train)\n",
        "\n",
        "class_weights = {0: class_weights[0], 1: class_weights[1]}\n",
        "class_weights"
      ]
    },
    {
      "cell_type": "code",
      "execution_count": null,
      "metadata": {
        "colab": {
          "base_uri": "https://localhost:8080/"
        },
        "id": "n1sXQhOh15y2",
        "outputId": "4a1e7ca2-0b17-4293-a37d-2cb388848d3a"
      },
      "outputs": [
        {
          "name": "stdout",
          "output_type": "stream",
          "text": [
            "Epoch 1/200\n",
            "60/60 [==============================] - 2s 8ms/step - loss: 0.6925 - recall: 0.2012 - val_loss: 0.6769 - val_recall: 0.5118\n",
            "Epoch 2/200\n",
            "60/60 [==============================] - 0s 3ms/step - loss: 0.6717 - recall: 0.5484 - val_loss: 0.6605 - val_recall: 0.5235\n",
            "Epoch 3/200\n",
            "60/60 [==============================] - 0s 3ms/step - loss: 0.6579 - recall: 0.5926 - val_loss: 0.6482 - val_recall: 0.5529\n",
            "Epoch 4/200\n",
            "60/60 [==============================] - 0s 3ms/step - loss: 0.6460 - recall: 0.6240 - val_loss: 0.6611 - val_recall: 0.6176\n",
            "Epoch 5/200\n",
            "60/60 [==============================] - 0s 3ms/step - loss: 0.6345 - recall: 0.6342 - val_loss: 0.6648 - val_recall: 0.6353\n",
            "Epoch 6/200\n",
            "60/60 [==============================] - 0s 3ms/step - loss: 0.6258 - recall: 0.6586 - val_loss: 0.6722 - val_recall: 0.6647\n",
            "Epoch 7/200\n",
            "60/60 [==============================] - 0s 3ms/step - loss: 0.6172 - recall: 0.6605 - val_loss: 0.6429 - val_recall: 0.6118\n",
            "Epoch 8/200\n",
            "60/60 [==============================] - 0s 3ms/step - loss: 0.6079 - recall: 0.6791 - val_loss: 0.6038 - val_recall: 0.5412\n",
            "Epoch 9/200\n",
            "60/60 [==============================] - 0s 3ms/step - loss: 0.5998 - recall: 0.6714 - val_loss: 0.6349 - val_recall: 0.6000\n",
            "Epoch 10/200\n",
            "60/60 [==============================] - 0s 3ms/step - loss: 0.5910 - recall: 0.7021 - val_loss: 0.6087 - val_recall: 0.5647\n",
            "Epoch 11/200\n",
            "60/60 [==============================] - 0s 3ms/step - loss: 0.5826 - recall: 0.6899 - val_loss: 0.6412 - val_recall: 0.6824\n",
            "Epoch 12/200\n",
            "60/60 [==============================] - 0s 3ms/step - loss: 0.5755 - recall: 0.6970 - val_loss: 0.6463 - val_recall: 0.7000\n",
            "Epoch 13/200\n",
            "60/60 [==============================] - 0s 3ms/step - loss: 0.5692 - recall: 0.6983 - val_loss: 0.6331 - val_recall: 0.6882\n",
            "Epoch 14/200\n",
            "60/60 [==============================] - 0s 3ms/step - loss: 0.5642 - recall: 0.7233 - val_loss: 0.5735 - val_recall: 0.6294\n",
            "Epoch 15/200\n",
            "60/60 [==============================] - 0s 3ms/step - loss: 0.5601 - recall: 0.7111 - val_loss: 0.6043 - val_recall: 0.6824\n",
            "Epoch 16/200\n",
            "60/60 [==============================] - 0s 3ms/step - loss: 0.5544 - recall: 0.7104 - val_loss: 0.5859 - val_recall: 0.6706\n",
            "Epoch 17/200\n",
            "60/60 [==============================] - 0s 3ms/step - loss: 0.5496 - recall: 0.7322 - val_loss: 0.5911 - val_recall: 0.6765\n",
            "Epoch 18/200\n",
            "60/60 [==============================] - 0s 3ms/step - loss: 0.5448 - recall: 0.7188 - val_loss: 0.5940 - val_recall: 0.7000\n",
            "Epoch 19/200\n",
            "60/60 [==============================] - 0s 3ms/step - loss: 0.5412 - recall: 0.7245 - val_loss: 0.5413 - val_recall: 0.6412\n",
            "Epoch 20/200\n",
            "60/60 [==============================] - 0s 3ms/step - loss: 0.5355 - recall: 0.7341 - val_loss: 0.5645 - val_recall: 0.6765\n",
            "Epoch 21/200\n",
            "60/60 [==============================] - 0s 3ms/step - loss: 0.5295 - recall: 0.7335 - val_loss: 0.5070 - val_recall: 0.6294\n",
            "Epoch 22/200\n",
            "60/60 [==============================] - 0s 3ms/step - loss: 0.5258 - recall: 0.7271 - val_loss: 0.5571 - val_recall: 0.6882\n",
            "Epoch 23/200\n",
            "60/60 [==============================] - 0s 3ms/step - loss: 0.5202 - recall: 0.7495 - val_loss: 0.5185 - val_recall: 0.6529\n",
            "Epoch 24/200\n",
            "60/60 [==============================] - 0s 3ms/step - loss: 0.5163 - recall: 0.7341 - val_loss: 0.5668 - val_recall: 0.7235\n",
            "Epoch 25/200\n",
            "60/60 [==============================] - 0s 3ms/step - loss: 0.5115 - recall: 0.7495 - val_loss: 0.5050 - val_recall: 0.6765\n",
            "Epoch 26/200\n",
            "60/60 [==============================] - 0s 3ms/step - loss: 0.5071 - recall: 0.7463 - val_loss: 0.5298 - val_recall: 0.7000\n",
            "Epoch 27/200\n",
            "60/60 [==============================] - 0s 3ms/step - loss: 0.5035 - recall: 0.7399 - val_loss: 0.5525 - val_recall: 0.7529\n",
            "Epoch 28/200\n",
            "60/60 [==============================] - 0s 3ms/step - loss: 0.5001 - recall: 0.7553 - val_loss: 0.5118 - val_recall: 0.7000\n",
            "Epoch 29/200\n",
            "60/60 [==============================] - 0s 3ms/step - loss: 0.4969 - recall: 0.7534 - val_loss: 0.5117 - val_recall: 0.7235\n",
            "Epoch 30/200\n",
            "60/60 [==============================] - 0s 3ms/step - loss: 0.4936 - recall: 0.7514 - val_loss: 0.5188 - val_recall: 0.7412\n",
            "Epoch 31/200\n",
            "60/60 [==============================] - 0s 3ms/step - loss: 0.4903 - recall: 0.7572 - val_loss: 0.5112 - val_recall: 0.7353\n",
            "Epoch 32/200\n",
            "60/60 [==============================] - 0s 3ms/step - loss: 0.4882 - recall: 0.7553 - val_loss: 0.4616 - val_recall: 0.6765\n",
            "Epoch 33/200\n",
            "60/60 [==============================] - 0s 3ms/step - loss: 0.4859 - recall: 0.7540 - val_loss: 0.5049 - val_recall: 0.7412\n",
            "Epoch 34/200\n",
            "60/60 [==============================] - 0s 3ms/step - loss: 0.4836 - recall: 0.7598 - val_loss: 0.4953 - val_recall: 0.7412\n",
            "Epoch 35/200\n",
            "60/60 [==============================] - 0s 3ms/step - loss: 0.4827 - recall: 0.7623 - val_loss: 0.4877 - val_recall: 0.7353\n",
            "Epoch 36/200\n",
            "60/60 [==============================] - 0s 3ms/step - loss: 0.4798 - recall: 0.7668 - val_loss: 0.4512 - val_recall: 0.6765\n",
            "Epoch 37/200\n",
            "60/60 [==============================] - 0s 3ms/step - loss: 0.4800 - recall: 0.7585 - val_loss: 0.4735 - val_recall: 0.7294\n",
            "Epoch 38/200\n",
            "60/60 [==============================] - 0s 3ms/step - loss: 0.4774 - recall: 0.7668 - val_loss: 0.4524 - val_recall: 0.6882\n",
            "Epoch 39/200\n",
            "60/60 [==============================] - 0s 4ms/step - loss: 0.4762 - recall: 0.7611 - val_loss: 0.4874 - val_recall: 0.7471\n",
            "Epoch 40/200\n",
            "60/60 [==============================] - 0s 3ms/step - loss: 0.4737 - recall: 0.7604 - val_loss: 0.4756 - val_recall: 0.7294\n",
            "Epoch 41/200\n",
            "60/60 [==============================] - 0s 3ms/step - loss: 0.4744 - recall: 0.7655 - val_loss: 0.4941 - val_recall: 0.7588\n",
            "Epoch 42/200\n",
            "60/60 [==============================] - 0s 3ms/step - loss: 0.4740 - recall: 0.7675 - val_loss: 0.4493 - val_recall: 0.7118\n",
            "Epoch 43/200\n",
            "60/60 [==============================] - 0s 3ms/step - loss: 0.4723 - recall: 0.7745 - val_loss: 0.4770 - val_recall: 0.7471\n",
            "Epoch 44/200\n",
            "60/60 [==============================] - 0s 3ms/step - loss: 0.4711 - recall: 0.7655 - val_loss: 0.4816 - val_recall: 0.7706\n",
            "Epoch 45/200\n",
            "60/60 [==============================] - 0s 3ms/step - loss: 0.4705 - recall: 0.7675 - val_loss: 0.4624 - val_recall: 0.7353\n",
            "Epoch 46/200\n",
            "60/60 [==============================] - 0s 3ms/step - loss: 0.4687 - recall: 0.7681 - val_loss: 0.4757 - val_recall: 0.7647\n",
            "Epoch 47/200\n",
            "60/60 [==============================] - 0s 3ms/step - loss: 0.4685 - recall: 0.7719 - val_loss: 0.4412 - val_recall: 0.6882\n",
            "Epoch 48/200\n",
            "60/60 [==============================] - 0s 3ms/step - loss: 0.4683 - recall: 0.7617 - val_loss: 0.4703 - val_recall: 0.7471\n",
            "Epoch 49/200\n",
            "60/60 [==============================] - 0s 3ms/step - loss: 0.4684 - recall: 0.7719 - val_loss: 0.4536 - val_recall: 0.7353\n",
            "Epoch 50/200\n",
            "60/60 [==============================] - 0s 3ms/step - loss: 0.4671 - recall: 0.7687 - val_loss: 0.4450 - val_recall: 0.7235\n",
            "Epoch 51/200\n",
            "60/60 [==============================] - 0s 3ms/step - loss: 0.4655 - recall: 0.7700 - val_loss: 0.4786 - val_recall: 0.7588\n",
            "Epoch 52/200\n",
            "60/60 [==============================] - 0s 3ms/step - loss: 0.4660 - recall: 0.7751 - val_loss: 0.4446 - val_recall: 0.7353\n",
            "Epoch 53/200\n",
            "60/60 [==============================] - 0s 3ms/step - loss: 0.4647 - recall: 0.7719 - val_loss: 0.4438 - val_recall: 0.7000\n",
            "Epoch 54/200\n",
            "60/60 [==============================] - 0s 4ms/step - loss: 0.4643 - recall: 0.7732 - val_loss: 0.4554 - val_recall: 0.7412\n",
            "Epoch 55/200\n",
            "60/60 [==============================] - 0s 3ms/step - loss: 0.4638 - recall: 0.7739 - val_loss: 0.4305 - val_recall: 0.6647\n",
            "Epoch 56/200\n",
            "60/60 [==============================] - 0s 3ms/step - loss: 0.4637 - recall: 0.7668 - val_loss: 0.4903 - val_recall: 0.7765\n",
            "Epoch 57/200\n",
            "60/60 [==============================] - 0s 3ms/step - loss: 0.4630 - recall: 0.7758 - val_loss: 0.4458 - val_recall: 0.7176\n",
            "Epoch 58/200\n",
            "60/60 [==============================] - 0s 3ms/step - loss: 0.4632 - recall: 0.7649 - val_loss: 0.4726 - val_recall: 0.7529\n",
            "Epoch 59/200\n",
            "60/60 [==============================] - 0s 3ms/step - loss: 0.4629 - recall: 0.7809 - val_loss: 0.4569 - val_recall: 0.7471\n",
            "Epoch 60/200\n",
            "60/60 [==============================] - 0s 3ms/step - loss: 0.4616 - recall: 0.7694 - val_loss: 0.4727 - val_recall: 0.7647\n",
            "Epoch 61/200\n",
            "60/60 [==============================] - 0s 3ms/step - loss: 0.4619 - recall: 0.7694 - val_loss: 0.4654 - val_recall: 0.7529\n",
            "Epoch 62/200\n",
            "60/60 [==============================] - 0s 3ms/step - loss: 0.4612 - recall: 0.7732 - val_loss: 0.4795 - val_recall: 0.7706\n",
            "Epoch 63/200\n",
            "60/60 [==============================] - 0s 3ms/step - loss: 0.4605 - recall: 0.7707 - val_loss: 0.4689 - val_recall: 0.7529\n",
            "Epoch 64/200\n",
            "60/60 [==============================] - 0s 3ms/step - loss: 0.4605 - recall: 0.7700 - val_loss: 0.4595 - val_recall: 0.7412\n",
            "Epoch 65/200\n",
            "44/60 [=====================>........] - ETA: 0s - loss: 0.4592 - recall: 0.7655Restoring model weights from the end of the best epoch: 55.\n",
            "60/60 [==============================] - 0s 3ms/step - loss: 0.4617 - recall: 0.7732 - val_loss: 0.4925 - val_recall: 0.7882\n",
            "Epoch 65: early stopping\n"
          ]
        },
        {
          "data": {
            "text/plain": [
              "<keras.callbacks.History at 0x7fa6a6f3d430>"
            ]
          },
          "execution_count": 46,
          "metadata": {},
          "output_type": "execute_result"
        }
      ],
      "source": [
        "model.fit(x=X_train,\n",
        "          y=y_train,\n",
        "          validation_split=.1,\n",
        "          batch_size=128,\n",
        "          epochs=200,\n",
        "          verbose=1,\n",
        "          callbacks=[early_stop],\n",
        "          class_weight=class_weights)"
      ]
    },
    {
      "cell_type": "code",
      "execution_count": null,
      "metadata": {
        "colab": {
          "base_uri": "https://localhost:8080/",
          "height": 392
        },
        "id": "8YmTCJAq2WJw",
        "outputId": "f45b7e2f-d97a-45b2-baf0-6ac9cb70130c"
      },
      "outputs": [
        {
          "data": {
            "text/plain": [
              "<matplotlib.axes._subplots.AxesSubplot at 0x7fa6a8724bb0>"
            ]
          },
          "execution_count": 47,
          "metadata": {},
          "output_type": "execute_result"
        },
        {
          "data": {
            "image/png": "[encoded data removed]",
            "text/plain": [
              "<Figure size 720x432 with 1 Axes>"
            ]
          },
          "metadata": {},
          "output_type": "display_data"
        }
      ],
      "source": [
        "loss_df = pd.DataFrame(model.history.history)\n",
        "loss_df.plot()"
      ]
    },
    {
      "cell_type": "code",
      "execution_count": null,
      "metadata": {
        "colab": {
          "base_uri": "https://localhost:8080/"
        },
        "id": "0Ue6i71X2YVF",
        "outputId": "54ac9e60-e4e4-4d39-a4be-688b91a91009"
      },
      "outputs": [
        {
          "name": "stdout",
          "output_type": "stream",
          "text": [
            "47/47 [==============================] - 0s 1ms/step\n",
            "[[962 232]\n",
            " [ 83 223]]\n",
            "              precision    recall  f1-score   support\n",
            "\n",
            "           0       0.92      0.81      0.86      1194\n",
            "           1       0.49      0.73      0.59       306\n",
            "\n",
            "    accuracy                           0.79      1500\n",
            "   macro avg       0.71      0.77      0.72      1500\n",
            "weighted avg       0.83      0.79      0.80      1500\n",
            "\n"
          ]
        }
      ],
      "source": [
        "y_pred = (model.predict(X_test) > .5).astype(\"int32\")\n",
        "print(confusion_matrix(y_test, y_pred))\n",
        "print(classification_report(y_test, y_pred))"
      ]
    },
    {
      "cell_type": "code",
      "execution_count": null,
      "metadata": {
        "colab": {
          "base_uri": "https://localhost:8080/",
          "height": 422
        },
        "id": "Uhl8QP6b25hi",
        "outputId": "69a3ca31-d53e-4321-ea91-860d89c82869"
      },
      "outputs": [
        {
          "name": "stdout",
          "output_type": "stream",
          "text": [
            "47/47 [==============================] - 0s 2ms/step\n"
          ]
        },
        {
          "data": {
            "image/png": "[encoded data removed]",
            "text/plain": [
              "<Figure size 720x432 with 1 Axes>"
            ]
          },
          "metadata": {},
          "output_type": "display_data"
        }
      ],
      "source": [
        "y_pred_proba = model.predict(X_test)\n",
        "precisions, recalls, thresholds = precision_recall_curve(y_test, y_pred_proba)\n",
        "plt.plot(recalls, precisions, label='ANN')\n",
        "plt.xlabel('recalls')\n",
        "plt.ylabel('precisions')\n",
        "plt.title('Precision-Recall curve')\n",
        "plt.show()"
      ]
    },
    {
      "cell_type": "code",
      "execution_count": null,
      "metadata": {
        "colab": {
          "base_uri": "https://localhost:8080/"
        },
        "id": "rGd-oPUU286H",
        "outputId": "4dbc0bbb-aae5-46c8-b2b2-22e9c44f13c6"
      },
      "outputs": [
        {
          "data": {
            "text/plain": [
              "0.6655066495590977"
            ]
          },
          "execution_count": 50,
          "metadata": {},
          "output_type": "execute_result"
        }
      ],
      "source": [
        "weighted_pre_score = average_precision_score(y_test, y_pred_proba)\n",
        "weighted_pre_score  "
      ]
    },
    {
      "cell_type": "code",
      "execution_count": null,
      "metadata": {
        "id": "aiOsv3dl2-mM"
      },
      "outputs": [],
      "source": [
        "weighted_f1 = f1_score(y_test, y_pred)\n",
        "weighted_recall = recall_score(y_test, y_pred)"
      ]
    },
    {
      "cell_type": "markdown",
      "metadata": {
        "id": "TnrNqC6J3P_C"
      },
      "source": [
        "## Optune"
      ]
    },
    {
      "cell_type": "code",
      "execution_count": null,
      "metadata": {
        "id": "GsncLywP3V1A"
      },
      "outputs": [],
      "source": [
        "# pip install optuna"
      ]
    },
    {
      "cell_type": "code",
      "execution_count": null,
      "metadata": {
        "id": "x1PwYQrL3UE8"
      },
      "outputs": [],
      "source": [
        "import optuna\n",
        "# optimizers for gradient descent to use in backpropagation\n",
        "from tensorflow.keras.optimizers import Adam, Adadelta, RMSprop, Nadam  "
      ]
    },
    {
      "cell_type": "code",
      "execution_count": null,
      "metadata": {
        "colab": {
          "base_uri": "https://localhost:8080/"
        },
        "id": "wQPo5nJX3Ul1",
        "outputId": "99eca9ea-7a33-4305-a4c7-8fde23ec875f"
      },
      "outputs": [
        {
          "data": {
            "text/plain": [
              "{0: 0.6278623134879598, 1: 2.455228191796649}"
            ]
          },
          "execution_count": 55,
          "metadata": {},
          "output_type": "execute_result"
        }
      ],
      "source": [
        "class_weights"
      ]
    },
    {
      "cell_type": "code",
      "execution_count": null,
      "metadata": {
        "id": "Bl78e8c63UXd"
      },
      "outputs": [],
      "source": [
        "trial_metric = \"Recall\"\n",
        "batch_size = 512\n",
        "\n",
        "\n",
        "def create_model(trial):\n",
        "    # Some hyperparameters we want to optimize\n",
        "    n_units1 = trial.suggest_int('n_units1', 8, 128)\n",
        "    n_units2 = trial.suggest_int('n_units2', 8, 128)\n",
        "    optimizer = trial.suggest_categorical(\"optimizer\",\n",
        "                                          [Adam, Adadelta, RMSprop, Nadam])\n",
        "    learning_rate = trial.suggest_loguniform('learning_rate', 1e-5, 1.3e-1)\n",
        "\n",
        "    tf.random.set_seed(42)\n",
        "    model = Sequential()\n",
        "    model.add(Dense(n_units1, input_dim=X_train.shape[1], activation='relu'))\n",
        "    model.add(Dense(n_units2, activation='relu'))\n",
        "    model.add(Dense(1, activation='sigmoid'))\n",
        "    model.compile(loss='binary_crossentropy',\n",
        "                  optimizer=optimizer(learning_rate=learning_rate),\n",
        "                  metrics=[trial_metric])\n",
        "    return model\n",
        "\n",
        "\n",
        "def objective(trial):\n",
        "    model = create_model(trial)\n",
        "    w0 = trial.suggest_loguniform(\"w0\", 0.01, 5)\n",
        "    w1 = trial.suggest_loguniform(\"w1\", 0.01, 5)\n",
        "    model.fit(X_train,\n",
        "              y_train,\n",
        "              validation_split=.1,\n",
        "              batch_size=batch_size,\n",
        "              epochs=100,\n",
        "              callbacks=[early_stop],\n",
        "              class_weight={0: w0, 1: w1},\n",
        "              verbose=0)\n",
        "    score = model.evaluate(X_test, y_test, verbose=0)[1]\n",
        "    if score > .86 : # after this threshold model gets terrible scores for class 0\n",
        "        score = score * 0\n",
        "    return score"
      ]
    },
    {
      "cell_type": "code",
      "execution_count": null,
      "metadata": {
        "colab": {
          "base_uri": "https://localhost:8080/"
        },
        "id": "u7AJgmVa3ki0",
        "outputId": "be3fb748-d618-495b-fd9d-45d395064568"
      },
      "outputs": [
        {
          "name": "stderr",
          "output_type": "stream",
          "text": [
            "\u001b[32m[I 2023-01-21 15:06:58,760]\u001b[0m A new study created in memory with name: no-name-d1220eb3-5c66-4da3-ac5c-50a87476b47f\u001b[0m\n"
          ]
        },
        {
          "name": "stdout",
          "output_type": "stream",
          "text": [
            "Restoring model weights from the end of the best epoch: 1.\n",
            "Epoch 11: early stopping\n"
          ]
        },
        {
          "name": "stderr",
          "output_type": "stream",
          "text": [
            "\u001b[32m[I 2023-01-21 15:07:01,333]\u001b[0m Trial 0 finished with value: 0.0 and parameters: {'n_units1': 79, 'n_units2': 45, 'optimizer': <class 'keras.optimizers.optimizer_v2.nadam.Nadam'>, 'learning_rate': 0.0002399034345272688, 'w0': 0.018560986457045837, 'w1': 2.276678601377552}. Best is trial 0 with value: 0.0.\u001b[0m\n",
            "\u001b[32m[I 2023-01-21 15:07:12,516]\u001b[0m Trial 1 finished with value: 0.516339898109436 and parameters: {'n_units1': 85, 'n_units2': 35, 'optimizer': <class 'keras.optimizers.optimizer_v2.adadelta.Adadelta'>, 'learning_rate': 4.870809068510932e-05, 'w0': 0.3636735442916806, 'w1': 0.04994941307692552}. Best is trial 1 with value: 0.516339898109436.\u001b[0m\n"
          ]
        },
        {
          "name": "stdout",
          "output_type": "stream",
          "text": [
            "Restoring model weights from the end of the best epoch: 6.\n",
            "Epoch 16: early stopping\n"
          ]
        },
        {
          "name": "stderr",
          "output_type": "stream",
          "text": [
            "\u001b[32m[I 2023-01-21 15:07:14,839]\u001b[0m Trial 2 finished with value: 0.0 and parameters: {'n_units1': 54, 'n_units2': 37, 'optimizer': <class 'keras.optimizers.optimizer_v2.adam.Adam'>, 'learning_rate': 0.0002214039953486353, 'w0': 0.17084847033610293, 'w1': 0.03794331315352857}. Best is trial 1 with value: 0.516339898109436.\u001b[0m\n",
            "\u001b[32m[I 2023-01-21 15:07:24,642]\u001b[0m Trial 3 finished with value: 0.0 and parameters: {'n_units1': 63, 'n_units2': 101, 'optimizer': <class 'keras.optimizers.optimizer_v2.adadelta.Adadelta'>, 'learning_rate': 8.835845646468701e-05, 'w0': 0.22863837420316913, 'w1': 0.012515479002643418}. Best is trial 1 with value: 0.516339898109436.\u001b[0m\n"
          ]
        },
        {
          "name": "stdout",
          "output_type": "stream",
          "text": [
            "Restoring model weights from the end of the best epoch: 1.\n",
            "Epoch 11: early stopping\n"
          ]
        },
        {
          "name": "stderr",
          "output_type": "stream",
          "text": [
            "\u001b[32m[I 2023-01-21 15:07:27,417]\u001b[0m Trial 4 finished with value: 0.8169934749603271 and parameters: {'n_units1': 88, 'n_units2': 36, 'optimizer': <class 'keras.optimizers.optimizer_v2.nadam.Nadam'>, 'learning_rate': 0.000539308144532697, 'w0': 0.47279248654425343, 'w1': 3.493604136500803}. Best is trial 4 with value: 0.8169934749603271.\u001b[0m\n"
          ]
        },
        {
          "name": "stdout",
          "output_type": "stream",
          "text": [
            "Restoring model weights from the end of the best epoch: 15.\n",
            "Epoch 25: early stopping\n"
          ]
        },
        {
          "name": "stderr",
          "output_type": "stream",
          "text": [
            "\u001b[32m[I 2023-01-21 15:07:30,899]\u001b[0m Trial 5 finished with value: 0.0 and parameters: {'n_units1': 102, 'n_units2': 99, 'optimizer': <class 'keras.optimizers.optimizer_v2.adam.Adam'>, 'learning_rate': 5.836510225062692e-05, 'w0': 4.034985768239888, 'w1': 0.07064583770890552}. Best is trial 4 with value: 0.8169934749603271.\u001b[0m\n"
          ]
        },
        {
          "name": "stdout",
          "output_type": "stream",
          "text": [
            "Restoring model weights from the end of the best epoch: 1.\n",
            "Epoch 11: early stopping\n"
          ]
        },
        {
          "name": "stderr",
          "output_type": "stream",
          "text": [
            "\u001b[32m[I 2023-01-21 15:07:32,751]\u001b[0m Trial 6 finished with value: 0.03594771400094032 and parameters: {'n_units1': 21, 'n_units2': 31, 'optimizer': <class 'keras.optimizers.optimizer_v2.adam.Adam'>, 'learning_rate': 3.802054028669228e-05, 'w0': 0.09315270544608564, 'w1': 0.47489038103526965}. Best is trial 4 with value: 0.8169934749603271.\u001b[0m\n"
          ]
        },
        {
          "name": "stdout",
          "output_type": "stream",
          "text": [
            "Restoring model weights from the end of the best epoch: 24.\n",
            "Epoch 34: early stopping\n"
          ]
        },
        {
          "name": "stderr",
          "output_type": "stream",
          "text": [
            "\u001b[32m[I 2023-01-21 15:07:36,197]\u001b[0m Trial 7 finished with value: 0.2777777910232544 and parameters: {'n_units1': 58, 'n_units2': 36, 'optimizer': <class 'keras.optimizers.optimizer_v2.adam.Adam'>, 'learning_rate': 0.004320203519497, 'w0': 0.05381336093050843, 'w1': 0.014507503480975443}. Best is trial 4 with value: 0.8169934749603271.\u001b[0m\n",
            "\u001b[32m[I 2023-01-21 15:07:43,717]\u001b[0m Trial 8 finished with value: 0.0 and parameters: {'n_units1': 18, 'n_units2': 101, 'optimizer': <class 'keras.optimizers.optimizer_v2.adadelta.Adadelta'>, 'learning_rate': 0.008874653295970668, 'w0': 0.19672860285369514, 'w1': 0.041871191441941076}. Best is trial 4 with value: 0.8169934749603271.\u001b[0m\n"
          ]
        },
        {
          "name": "stdout",
          "output_type": "stream",
          "text": [
            "Restoring model weights from the end of the best epoch: 14.\n",
            "Epoch 24: early stopping\n"
          ]
        },
        {
          "name": "stderr",
          "output_type": "stream",
          "text": [
            "\u001b[32m[I 2023-01-21 15:07:46,931]\u001b[0m Trial 9 finished with value: 0.04248366132378578 and parameters: {'n_units1': 72, 'n_units2': 64, 'optimizer': <class 'keras.optimizers.optimizer_v2.rmsprop.RMSprop'>, 'learning_rate': 0.008883932483363902, 'w0': 0.751287687568025, 'w1': 0.029166185152595888}. Best is trial 4 with value: 0.8169934749603271.\u001b[0m\n"
          ]
        },
        {
          "name": "stdout",
          "output_type": "stream",
          "text": [
            "Restoring model weights from the end of the best epoch: 8.\n",
            "Epoch 18: early stopping\n"
          ]
        },
        {
          "name": "stderr",
          "output_type": "stream",
          "text": [
            "\u001b[32m[I 2023-01-21 15:07:50,904]\u001b[0m Trial 10 finished with value: 0.0 and parameters: {'n_units1': 115, 'n_units2': 9, 'optimizer': <class 'keras.optimizers.optimizer_v2.nadam.Nadam'>, 'learning_rate': 0.10478393256835268, 'w0': 1.3399513493957325, 'w1': 4.152963516138555}. Best is trial 4 with value: 0.8169934749603271.\u001b[0m\n"
          ]
        },
        {
          "name": "stdout",
          "output_type": "stream",
          "text": [
            "Restoring model weights from the end of the best epoch: 78.\n",
            "Epoch 88: early stopping\n"
          ]
        },
        {
          "name": "stderr",
          "output_type": "stream",
          "text": [
            "\u001b[32m[I 2023-01-21 15:07:59,867]\u001b[0m Trial 11 finished with value: 0.0 and parameters: {'n_units1': 93, 'n_units2': 66, 'optimizer': <class 'keras.optimizers.optimizer_v2.nadam.Nadam'>, 'learning_rate': 1.3299218144593983e-05, 'w0': 0.5809187978609776, 'w1': 0.2387800910554985}. Best is trial 4 with value: 0.8169934749603271.\u001b[0m\n",
            "\u001b[32m[I 2023-01-21 15:08:08,798]\u001b[0m Trial 12 finished with value: 0.016339870169758797 and parameters: {'n_units1': 128, 'n_units2': 21, 'optimizer': <class 'keras.optimizers.optimizer_v2.adadelta.Adadelta'>, 'learning_rate': 0.0007922235021658522, 'w0': 0.5039828258602758, 'w1': 0.9577269189597266}. Best is trial 4 with value: 0.8169934749603271.\u001b[0m\n"
          ]
        },
        {
          "name": "stdout",
          "output_type": "stream",
          "text": [
            "Restoring model weights from the end of the best epoch: 46.\n",
            "Epoch 56: early stopping\n"
          ]
        },
        {
          "name": "stderr",
          "output_type": "stream",
          "text": [
            "\u001b[32m[I 2023-01-21 15:08:16,569]\u001b[0m Trial 13 finished with value: 0.0 and parameters: {'n_units1': 91, 'n_units2': 54, 'optimizer': <class 'keras.optimizers.optimizer_v2.rmsprop.RMSprop'>, 'learning_rate': 1.540690281229943e-05, 'w0': 1.894025317250677, 'w1': 0.12222078731857458}. Best is trial 4 with value: 0.8169934749603271.\u001b[0m\n"
          ]
        },
        {
          "name": "stdout",
          "output_type": "stream",
          "text": [
            "Restoring model weights from the end of the best epoch: 63.\n",
            "Epoch 73: early stopping\n"
          ]
        },
        {
          "name": "stderr",
          "output_type": "stream",
          "text": [
            "\u001b[32m[I 2023-01-21 15:08:28,939]\u001b[0m Trial 14 finished with value: 0.3235294222831726 and parameters: {'n_units1': 46, 'n_units2': 83, 'optimizer': <class 'keras.optimizers.optimizer_v2.nadam.Nadam'>, 'learning_rate': 0.0005505785023358835, 'w0': 0.36128356747777557, 'w1': 0.19003681120476987}. Best is trial 4 with value: 0.8169934749603271.\u001b[0m\n",
            "\u001b[32m[I 2023-01-21 15:08:36,888]\u001b[0m Trial 15 finished with value: 0.5588235259056091 and parameters: {'n_units1': 83, 'n_units2': 8, 'optimizer': <class 'keras.optimizers.optimizer_v2.adadelta.Adadelta'>, 'learning_rate': 0.0001834183062291366, 'w0': 1.285155614985194, 'w1': 1.2268309149354595}. Best is trial 4 with value: 0.8169934749603271.\u001b[0m\n",
            "\u001b[32m[I 2023-01-21 15:08:48,588]\u001b[0m Trial 16 finished with value: 0.5261437892913818 and parameters: {'n_units1': 36, 'n_units2': 8, 'optimizer': <class 'keras.optimizers.optimizer_v2.nadam.Nadam'>, 'learning_rate': 0.0018725665771275896, 'w0': 1.2488422536017918, 'w1': 1.5400438928696434}. Best is trial 4 with value: 0.8169934749603271.\u001b[0m\n",
            "\u001b[32m[I 2023-01-21 15:08:59,740]\u001b[0m Trial 17 finished with value: 0.009803921915590763 and parameters: {'n_units1': 106, 'n_units2': 20, 'optimizer': <class 'keras.optimizers.optimizer_v2.adadelta.Adadelta'>, 'learning_rate': 0.0002678573022662877, 'w0': 2.5178429217308627, 'w1': 4.7656024169479245}. Best is trial 4 with value: 0.8169934749603271.\u001b[0m\n"
          ]
        },
        {
          "name": "stdout",
          "output_type": "stream",
          "text": [
            "Restoring model weights from the end of the best epoch: 41.\n",
            "Epoch 51: early stopping\n"
          ]
        },
        {
          "name": "stderr",
          "output_type": "stream",
          "text": [
            "\u001b[32m[I 2023-01-21 15:09:11,175]\u001b[0m Trial 18 finished with value: 0.22549019753932953 and parameters: {'n_units1': 73, 'n_units2': 119, 'optimizer': <class 'keras.optimizers.optimizer_v2.rmsprop.RMSprop'>, 'learning_rate': 0.001652153402823607, 'w0': 4.293706251045566, 'w1': 0.7784537929090991}. Best is trial 4 with value: 0.8169934749603271.\u001b[0m\n",
            "\u001b[32m[I 2023-01-21 15:09:20,183]\u001b[0m Trial 19 finished with value: 0.12745098769664764 and parameters: {'n_units1': 117, 'n_units2': 22, 'optimizer': <class 'keras.optimizers.optimizer_v2.adadelta.Adadelta'>, 'learning_rate': 0.00011508779904942944, 'w0': 0.977737322900528, 'w1': 2.3211908379934254}. Best is trial 4 with value: 0.8169934749603271.\u001b[0m\n"
          ]
        },
        {
          "name": "stdout",
          "output_type": "stream",
          "text": [
            "Restoring model weights from the end of the best epoch: 77.\n",
            "Epoch 87: early stopping\n"
          ]
        },
        {
          "name": "stderr",
          "output_type": "stream",
          "text": [
            "\u001b[32m[I 2023-01-21 15:09:31,803]\u001b[0m Trial 20 finished with value: 0.36274510622024536 and parameters: {'n_units1': 100, 'n_units2': 49, 'optimizer': <class 'keras.optimizers.optimizer_v2.nadam.Nadam'>, 'learning_rate': 0.00043789116448783084, 'w0': 0.9151462480718473, 'w1': 0.5441393326186508}. Best is trial 4 with value: 0.8169934749603271.\u001b[0m\n",
            "\u001b[32m[I 2023-01-21 15:09:40,507]\u001b[0m Trial 21 finished with value: 0.4575163424015045 and parameters: {'n_units1': 35, 'n_units2': 11, 'optimizer': <class 'keras.optimizers.optimizer_v2.nadam.Nadam'>, 'learning_rate': 0.001256340640394699, 'w0': 1.3923206378553146, 'w1': 1.5173474703455918}. Best is trial 4 with value: 0.8169934749603271.\u001b[0m\n"
          ]
        },
        {
          "name": "stdout",
          "output_type": "stream",
          "text": [
            "Restoring model weights from the end of the best epoch: 89.\n",
            "Epoch 99: early stopping\n"
          ]
        },
        {
          "name": "stderr",
          "output_type": "stream",
          "text": [
            "\u001b[32m[I 2023-01-21 15:09:52,140]\u001b[0m Trial 22 finished with value: 0.4313725531101227 and parameters: {'n_units1': 36, 'n_units2': 8, 'optimizer': <class 'keras.optimizers.optimizer_v2.nadam.Nadam'>, 'learning_rate': 0.0018403083169049323, 'w0': 1.9523788321622846, 'w1': 1.5122225628687713}. Best is trial 4 with value: 0.8169934749603271.\u001b[0m\n"
          ]
        },
        {
          "name": "stdout",
          "output_type": "stream",
          "text": [
            "Restoring model weights from the end of the best epoch: 36.\n",
            "Epoch 46: early stopping\n"
          ]
        },
        {
          "name": "stderr",
          "output_type": "stream",
          "text": [
            "\u001b[32m[I 2023-01-21 15:09:58,668]\u001b[0m Trial 23 finished with value: 0.6699346303939819 and parameters: {'n_units1': 82, 'n_units2': 21, 'optimizer': <class 'keras.optimizers.optimizer_v2.nadam.Nadam'>, 'learning_rate': 0.000586152270734064, 'w0': 0.8190504158723322, 'w1': 3.142571958567859}. Best is trial 4 with value: 0.8169934749603271.\u001b[0m\n"
          ]
        },
        {
          "name": "stdout",
          "output_type": "stream",
          "text": [
            "Restoring model weights from the end of the best epoch: 1.\n",
            "Epoch 11: early stopping\n"
          ]
        },
        {
          "name": "stderr",
          "output_type": "stream",
          "text": [
            "\u001b[32m[I 2023-01-21 15:10:02,685]\u001b[0m Trial 24 finished with value: 0.07189542800188065 and parameters: {'n_units1': 83, 'n_units2': 26, 'optimizer': <class 'keras.optimizers.optimizer_v2.nadam.Nadam'>, 'learning_rate': 0.00015880044889858013, 'w0': 0.6489395751160116, 'w1': 2.9835695821895634}. Best is trial 4 with value: 0.8169934749603271.\u001b[0m\n"
          ]
        },
        {
          "data": {
            "text/plain": [
              "{'n_units1': 88,\n",
              " 'n_units2': 36,\n",
              " 'optimizer': keras.optimizers.optimizer_v2.nadam.Nadam,\n",
              " 'learning_rate': 0.000539308144532697,\n",
              " 'w0': 0.47279248654425343,\n",
              " 'w1': 3.493604136500803}"
            ]
          },
          "execution_count": 57,
          "metadata": {},
          "output_type": "execute_result"
        }
      ],
      "source": [
        "study = optuna.create_study(direction=\"maximize\")\n",
        "study.optimize(objective, n_trials=25)\n",
        "study.best_params"
      ]
    },
    {
      "cell_type": "code",
      "execution_count": null,
      "metadata": {
        "colab": {
          "base_uri": "https://localhost:8080/"
        },
        "id": "JxH8shFN4XP3",
        "outputId": "27c5aab1-fba8-4782-f489-398e16977c84"
      },
      "outputs": [
        {
          "name": "stdout",
          "output_type": "stream",
          "text": [
            "Epoch 1/100\n",
            "15/15 [==============================] - 1s 24ms/step - loss: 0.7813 - recall: 0.3069 - val_loss: 0.7267 - val_recall: 0.8294\n",
            "Epoch 2/100\n",
            "15/15 [==============================] - 0s 5ms/step - loss: 0.7173 - recall: 0.9430 - val_loss: 0.8420 - val_recall: 1.0000\n",
            "Epoch 3/100\n",
            "15/15 [==============================] - 0s 6ms/step - loss: 0.6922 - recall: 0.9994 - val_loss: 0.8765 - val_recall: 1.0000\n",
            "Epoch 4/100\n",
            "15/15 [==============================] - 0s 7ms/step - loss: 0.6777 - recall: 0.9968 - val_loss: 0.8647 - val_recall: 1.0000\n",
            "Epoch 5/100\n",
            "15/15 [==============================] - 0s 7ms/step - loss: 0.6647 - recall: 0.9814 - val_loss: 0.8570 - val_recall: 0.9941\n",
            "Epoch 6/100\n",
            "15/15 [==============================] - 0s 6ms/step - loss: 0.6532 - recall: 0.9693 - val_loss: 0.8581 - val_recall: 0.9765\n",
            "Epoch 7/100\n",
            "15/15 [==============================] - 0s 6ms/step - loss: 0.6427 - recall: 0.9520 - val_loss: 0.8521 - val_recall: 0.9529\n",
            "Epoch 8/100\n",
            "15/15 [==============================] - 0s 6ms/step - loss: 0.6330 - recall: 0.9353 - val_loss: 0.8249 - val_recall: 0.9176\n",
            "Epoch 9/100\n",
            "15/15 [==============================] - 0s 5ms/step - loss: 0.6247 - recall: 0.9257 - val_loss: 0.8331 - val_recall: 0.9059\n",
            "Epoch 10/100\n",
            "15/15 [==============================] - 0s 6ms/step - loss: 0.6161 - recall: 0.9225 - val_loss: 0.8104 - val_recall: 0.8706\n",
            "Epoch 11/100\n",
            "13/15 [=========================>....] - ETA: 0s - loss: 0.6123 - recall: 0.9047Restoring model weights from the end of the best epoch: 1.\n",
            "15/15 [==============================] - 0s 7ms/step - loss: 0.6089 - recall: 0.9090 - val_loss: 0.8242 - val_recall: 0.8882\n",
            "Epoch 11: early stopping\n"
          ]
        },
        {
          "data": {
            "text/plain": [
              "<keras.callbacks.History at 0x7fa708679d00>"
            ]
          },
          "execution_count": 62,
          "metadata": {},
          "output_type": "execute_result"
        }
      ],
      "source": [
        "unit1, unit2, optimizer, lr, w0, w1 = (study.best_params['n_units1'],\n",
        "                               study.best_params['n_units2'],\n",
        "                               study.best_params['optimizer'],\n",
        "                               study.best_params['learning_rate'], \n",
        "                               study.best_params['w0'],\n",
        "                               study.best_params['w1'] )\n",
        "tf.random.set_seed(42)\n",
        "model = Sequential()\n",
        "model.add(Dense(unit1, activation=\"relu\"))\n",
        "model.add(Dense(unit2, activation=\"relu\"))\n",
        "model.add(Dense(1, activation=\"sigmoid\"))\n",
        "opt = optimizer(lr=lr)\n",
        "model.compile(optimizer=opt, loss=\"binary_crossentropy\", metrics=[\"Recall\"])\n",
        "\n",
        "# train model\n",
        "model.fit(X_train,\n",
        "          y_train,\n",
        "          validation_split=.1,\n",
        "          batch_size=512,\n",
        "          epochs=100,\n",
        "          callbacks=[early_stop],\n",
        "          class_weight={0: w0, 1: w1},\n",
        "          verbose=1)"
      ]
    },
    {
      "cell_type": "code",
      "execution_count": null,
      "metadata": {
        "colab": {
          "base_uri": "https://localhost:8080/"
        },
        "id": "Wb6o_Dnu4bGB",
        "outputId": "9e5ef1e4-b63e-4a1f-ddc1-fb77d1a4d51f"
      },
      "outputs": [
        {
          "name": "stdout",
          "output_type": "stream",
          "text": [
            "47/47 [==============================] - 0s 2ms/step\n",
            "[[242 952]\n",
            " [ 56 250]]\n",
            "              precision    recall  f1-score   support\n",
            "\n",
            "           0       0.81      0.20      0.32      1194\n",
            "           1       0.21      0.82      0.33       306\n",
            "\n",
            "    accuracy                           0.33      1500\n",
            "   macro avg       0.51      0.51      0.33      1500\n",
            "weighted avg       0.69      0.33      0.33      1500\n",
            "\n"
          ]
        }
      ],
      "source": [
        "y_pred = (model.predict(X_test) > 0.5).astype(\"int32\")\n",
        "print(confusion_matrix(y_test, y_pred))\n",
        "print(classification_report(y_test, y_pred))"
      ]
    },
    {
      "cell_type": "code",
      "execution_count": null,
      "metadata": {
        "colab": {
          "base_uri": "https://localhost:8080/",
          "height": 422
        },
        "id": "wvMNszcR4a_N",
        "outputId": "9f78a226-c8d2-4142-dd9a-ed469255c889"
      },
      "outputs": [
        {
          "name": "stdout",
          "output_type": "stream",
          "text": [
            "47/47 [==============================] - 0s 3ms/step\n"
          ]
        },
        {
          "data": {
            "image/png": "[encoded data removed]",
            "text/plain": [
              "<Figure size 720x432 with 1 Axes>"
            ]
          },
          "metadata": {},
          "output_type": "display_data"
        }
      ],
      "source": [
        "y_pred_proba = model.predict(X_test)\n",
        "precisions, recalls, thresholds = precision_recall_curve(y_test, y_pred_proba)\n",
        "plt.plot(recalls, precisions, label='ANN')\n",
        "plt.xlabel('recalls')\n",
        "plt.ylabel('precisions')\n",
        "plt.title('Precision-Recall curve')\n",
        "plt.show()"
      ]
    },
    {
      "cell_type": "code",
      "execution_count": null,
      "metadata": {
        "colab": {
          "base_uri": "https://localhost:8080/"
        },
        "id": "8bOLI-jB4a8i",
        "outputId": "44213b21-7900-48ad-dd0f-3b42fdb23cc0"
      },
      "outputs": [
        {
          "data": {
            "text/plain": [
              "0.2083201611125029"
            ]
          },
          "execution_count": 61,
          "metadata": {},
          "output_type": "execute_result"
        }
      ],
      "source": [
        "optuna_pre_score = average_precision_score(y_test, y_pred_proba)\n",
        "optuna_pre_score "
      ]
    },
    {
      "cell_type": "code",
      "execution_count": null,
      "metadata": {
        "id": "yFNgUsXX5wBm"
      },
      "outputs": [],
      "source": [
        "optuna_weighted_f1 = f1_score(y_test, y_pred)\n",
        "optuna_weighted_recall = recall_score(y_test, y_pred)"
      ]
    },
    {
      "cell_type": "code",
      "execution_count": null,
      "metadata": {
        "colab": {
          "base_uri": "https://localhost:8080/",
          "height": 606
        },
        "id": "HDSSFcwm5zak",
        "outputId": "4275ff9c-4284-4ec1-d4a1-892bd34467b3"
      },
      "outputs": [
        {
          "data": {
            "image/png": "[encoded data removed]",
            "text/plain": [
              "<Figure size 1008x720 with 3 Axes>"
            ]
          },
          "metadata": {},
          "output_type": "display_data"
        }
      ],
      "source": [
        "compare = pd.DataFrame({\n",
        "    \"Model\": [\"ANN\", \"ANN_Weighted\", \"ANN_Optuna\"],\n",
        "    \"F1\": [non_weighted_f1, weighted_f1, optuna_weighted_f1],\n",
        "    \"Recall\": [non_weighted_recall, weighted_recall, optuna_weighted_recall],\n",
        "    \"AP\": [non_weighted_pre_score, weighted_pre_score, optuna_pre_score]\n",
        "})\n",
        "\n",
        "\n",
        "def labels(ax):\n",
        "    for p in ax.patches:\n",
        "        width = p.get_width()  # get bar length\n",
        "        ax.text(\n",
        "            width,  # set the text at 1 unit right of the bar\n",
        "            p.get_y() +\n",
        "            p.get_height() / 2,  # get Y coordinate + X coordinate / 2\n",
        "            '{:1.3f}'.format(width),  # set variable to display, 2 decimals\n",
        "            ha='left',  # horizontal alignment\n",
        "            va='center')  # vertical alignment\n",
        "\n",
        "\n",
        "plt.figure(figsize=(14, 10))\n",
        "plt.subplot(311)\n",
        "compare = compare.sort_values(by=\"F1\", ascending=False)\n",
        "ax = sns.barplot(x=\"F1\", y=\"Model\", data=compare, palette=\"Blues_d\")\n",
        "labels(ax)\n",
        "\n",
        "plt.subplot(312)\n",
        "compare = compare.sort_values(by=\"Recall\", ascending=False)\n",
        "ax = sns.barplot(x=\"Recall\", y=\"Model\", data=compare, palette=\"Blues_d\")\n",
        "labels(ax)\n",
        "\n",
        "plt.subplot(313)\n",
        "compare = compare.sort_values(by=\"AP\", ascending=False)\n",
        "ax = sns.barplot(x=\"AP\", y=\"Model\", data=compare, palette=\"Blues_d\")\n",
        "labels(ax)\n",
        "plt.show()"
      ]
    },
    {
      "cell_type": "code",
      "execution_count": null,
      "metadata": {
        "id": "uvWid0lr5zWb"
      },
      "outputs": [],
      "source": []
    },
    {
      "cell_type": "markdown",
      "metadata": {
        "id": "4H-j4Ps8yIDK"
      },
      "source": [
        "# Final Model and Model Deployment"
      ]
    },
    {
      "cell_type": "code",
      "execution_count": null,
      "metadata": {
        "id": "NebBhikqyIDL"
      },
      "outputs": [],
      "source": [
        "import pickle # to save the model or scalling parameters\n",
        "\n",
        "pickle.dump(column_trans, open(\"transformer_churn\", \"wb\"))\n",
        "pickle.dump(scaler, open(\"scaler_churn\", 'wb')) # to save the scaler"
      ]
    },
    {
      "cell_type": "code",
      "execution_count": null,
      "metadata": {
        "id": "UCARRQ0y6aAl"
      },
      "outputs": [],
      "source": [
        "X = df.drop('Exited', axis=1)\n",
        "y = df['Exited'].values"
      ]
    },
    {
      "cell_type": "code",
      "execution_count": null,
      "metadata": {
        "id": "6ZnO-hsQ6Z-E"
      },
      "outputs": [],
      "source": [
        "X_train, X_test, y_train, y_test = train_test_split(X,\n",
        "                                                    y,\n",
        "                                                    stratify=y,\n",
        "                                                    test_size=0.15,\n",
        "                                                    random_state=42)"
      ]
    },
    {
      "cell_type": "code",
      "execution_count": null,
      "metadata": {
        "id": "N_ykfnu76Zt7"
      },
      "outputs": [],
      "source": [
        "X_train = column_trans.fit_transform(X_train)\n",
        "X_test = column_trans.transform(X_test)"
      ]
    },
    {
      "cell_type": "code",
      "execution_count": null,
      "metadata": {
        "colab": {
          "base_uri": "https://localhost:8080/"
        },
        "id": "UszLaqww7bZ5",
        "outputId": "1b5d62f2-5e6c-48d9-cea9-d35ed9ee70f4"
      },
      "outputs": [
        {
          "name": "stdout",
          "output_type": "stream",
          "text": [
            "Epoch 1/150\n",
            "17/17 [==============================] - 2s 36ms/step - loss: 0.7765 - recall: 0.3362 - val_loss: 0.7453 - val_recall: 0.8725\n",
            "Epoch 2/150\n",
            "17/17 [==============================] - 0s 13ms/step - loss: 0.7109 - recall: 0.9676 - val_loss: 0.8568 - val_recall: 1.0000\n",
            "Epoch 3/150\n",
            "17/17 [==============================] - 0s 12ms/step - loss: 0.6876 - recall: 0.9988 - val_loss: 0.8707 - val_recall: 1.0000\n",
            "Epoch 4/150\n",
            "17/17 [==============================] - 0s 19ms/step - loss: 0.6727 - recall: 0.9948 - val_loss: 0.8416 - val_recall: 0.9804\n",
            "Epoch 5/150\n",
            "17/17 [==============================] - 0s 13ms/step - loss: 0.6597 - recall: 0.9723 - val_loss: 0.8313 - val_recall: 0.9608\n",
            "Epoch 6/150\n",
            "17/17 [==============================] - 0s 13ms/step - loss: 0.6479 - recall: 0.9544 - val_loss: 0.8420 - val_recall: 0.9575\n",
            "Epoch 7/150\n",
            "17/17 [==============================] - 0s 10ms/step - loss: 0.6371 - recall: 0.9411 - val_loss: 0.8200 - val_recall: 0.9281\n",
            "Epoch 8/150\n",
            "17/17 [==============================] - 0s 18ms/step - loss: 0.6268 - recall: 0.9128 - val_loss: 0.8818 - val_recall: 0.9542\n",
            "Epoch 9/150\n",
            "17/17 [==============================] - 0s 11ms/step - loss: 0.6194 - recall: 0.9209 - val_loss: 0.8029 - val_recall: 0.9118\n",
            "Epoch 10/150\n",
            "17/17 [==============================] - 0s 14ms/step - loss: 0.6109 - recall: 0.9110 - val_loss: 0.7825 - val_recall: 0.8987\n",
            "Epoch 11/150\n",
            "13/17 [=====================>........] - ETA: 0s - loss: 0.6013 - recall: 0.9008Restoring model weights from the end of the best epoch: 1.\n",
            "17/17 [==============================] - 0s 12ms/step - loss: 0.6043 - recall: 0.9024 - val_loss: 0.8098 - val_recall: 0.9281\n",
            "Epoch 11: early stopping\n"
          ]
        },
        {
          "data": {
            "text/plain": [
              "<keras.callbacks.History at 0x7fa6a6d64220>"
            ]
          },
          "execution_count": 76,
          "metadata": {},
          "output_type": "execute_result"
        }
      ],
      "source": [
        "tf.random.set_seed(42)\n",
        "model = Sequential()\n",
        "\n",
        "model.add(Dense(88, activation=\"relu\"))\n",
        "model.add(Dense(36, activation=\"relu\"))\n",
        "model.add(Dense(1, activation=\"sigmoid\"))\n",
        "\n",
        "model.compile(optimizer=Nadam(learning_rate=0.000539308144532697),\n",
        "              loss=\"binary_crossentropy\",\n",
        "              metrics=[\"Recall\"])\n",
        "\n",
        "model.fit(x=X_train,\n",
        "          y=y_train,\n",
        "          validation_data=(X_test, y_test),\n",
        "          callbacks=[early_stop],\n",
        "          batch_size=512,\n",
        "          epochs=150,\n",
        "          verbose=1,\n",
        "          class_weight={0:0.47279248654425343, 1:3.493604136500803})"
      ]
    },
    {
      "cell_type": "code",
      "execution_count": null,
      "metadata": {
        "colab": {
          "base_uri": "https://localhost:8080/",
          "height": 392
        },
        "id": "EdTIyypK7c9h",
        "outputId": "42c9c7e4-4fe6-45df-81ac-7d8a02617db3"
      },
      "outputs": [
        {
          "data": {
            "text/plain": [
              "<matplotlib.axes._subplots.AxesSubplot at 0x7fa708440370>"
            ]
          },
          "execution_count": 77,
          "metadata": {},
          "output_type": "execute_result"
        },
        {
          "data": {
            "image/png": "[encoded data removed]",
            "text/plain": [
              "<Figure size 720x432 with 1 Axes>"
            ]
          },
          "metadata": {},
          "output_type": "display_data"
        }
      ],
      "source": [
        "loss_df = pd.DataFrame(model.history.history)\n",
        "loss_df.plot()"
      ]
    },
    {
      "cell_type": "code",
      "execution_count": null,
      "metadata": {
        "colab": {
          "base_uri": "https://localhost:8080/"
        },
        "id": "Rt5zJElM7cvq",
        "outputId": "81c695ad-04e9-4a67-eea6-9dc76eec1722"
      },
      "outputs": [
        {
          "name": "stdout",
          "output_type": "stream",
          "text": [
            "47/47 [==============================] - 0s 4ms/step\n",
            "[[ 192 1002]\n",
            " [  39  267]]\n",
            "              precision    recall  f1-score   support\n",
            "\n",
            "           0       0.83      0.16      0.27      1194\n",
            "           1       0.21      0.87      0.34       306\n",
            "\n",
            "    accuracy                           0.31      1500\n",
            "   macro avg       0.52      0.52      0.30      1500\n",
            "weighted avg       0.70      0.31      0.28      1500\n",
            "\n"
          ]
        }
      ],
      "source": [
        "y_pred = (model.predict(X_test) > .5).astype(\"int32\")\n",
        "print(confusion_matrix(y_test, y_pred))\n",
        "print(classification_report(y_test, y_pred))"
      ]
    },
    {
      "cell_type": "code",
      "execution_count": null,
      "metadata": {
        "id": "OQHXtzru8ZXd"
      },
      "outputs": [],
      "source": [
        "# model.save('model_churn.h5')"
      ]
    },
    {
      "cell_type": "markdown",
      "metadata": {
        "id": "Cq10ovAX6daY"
      },
      "source": [
        "## Prediction"
      ]
    },
    {
      "cell_type": "code",
      "execution_count": null,
      "metadata": {
        "colab": {
          "base_uri": "https://localhost:8080/",
          "height": 81
        },
        "id": "10nYKYBayIDL",
        "outputId": "e488e7a4-7703-458b-f212-8ec6c9e1749b"
      },
      "outputs": [
        {
          "data": {
            "text/html": [
              "\n",
              "  <div id=\"df-7124d312-a14d-452e-bb5e-cf11db0c7829\">\n",
              "    <div class=\"colab-df-container\">\n",
              "      <div>\n",
              "<style scoped>\n",
              "    .dataframe tbody tr th:only-of-type {\n",
              "        vertical-align: middle;\n",
              "    }\n",
              "\n",
              "    .dataframe tbody tr th {\n",
              "        vertical-align: top;\n",
              "    }\n",
              "\n",
              "    .dataframe thead th {\n",
              "        text-align: right;\n",
              "    }\n",
              "</style>\n",
              "<table border=\"1\" class=\"dataframe\">\n",
              "  <thead>\n",
              "    <tr style=\"text-align: right;\">\n",
              "      <th></th>\n",
              "      <th>CreditScore</th>\n",
              "      <th>Geography</th>\n",
              "      <th>Gender</th>\n",
              "      <th>Age</th>\n",
              "      <th>Tenure</th>\n",
              "      <th>Balance</th>\n",
              "      <th>NumOfProducts</th>\n",
              "      <th>HasCrCard</th>\n",
              "      <th>IsActiveMember</th>\n",
              "      <th>EstimatedSalary</th>\n",
              "    </tr>\n",
              "  </thead>\n",
              "  <tbody>\n",
              "    <tr>\n",
              "      <th>0</th>\n",
              "      <td>619</td>\n",
              "      <td>France</td>\n",
              "      <td>Female</td>\n",
              "      <td>42</td>\n",
              "      <td>2</td>\n",
              "      <td>0.000</td>\n",
              "      <td>1</td>\n",
              "      <td>1</td>\n",
              "      <td>1</td>\n",
              "      <td>101348.880</td>\n",
              "    </tr>\n",
              "  </tbody>\n",
              "</table>\n",
              "</div>\n",
              "      <button class=\"colab-df-convert\" onclick=\"convertToInteractive('df-7124d312-a14d-452e-bb5e-cf11db0c7829')\"\n",
              "              title=\"Convert this dataframe to an interactive table.\"\n",
              "              style=\"display:none;\">\n",
              "        \n",
              "  <svg xmlns=\"http://www.w3.org/2000/svg\" height=\"24px\"viewBox=\"0 0 24 24\"\n",
              "       width=\"24px\">\n",
              "    <path d=\"M0 0h24v24H0V0z\" fill=\"none\"/>\n",
              "    <path d=\"M18.56 5.44l.94 2.06.94-2.06 2.06-.94-2.06-.94-.94-2.06-.94 2.06-2.06.94zm-11 1L8.5 8.5l.94-2.06 2.06-.94-2.06-.94L8.5 2.5l-.94 2.06-2.06.94zm10 10l.94 2.06.94-2.06 2.06-.94-2.06-.94-.94-2.06-.94 2.06-2.06.94z\"/><path d=\"M17.41 7.96l-1.37-1.37c-.4-.4-.92-.59-1.43-.59-.52 0-1.04.2-1.43.59L10.3 9.45l-7.72 7.72c-.78.78-.78 2.05 0 2.83L4 21.41c.39.39.9.59 1.41.59.51 0 1.02-.2 1.41-.59l7.78-7.78 2.81-2.81c.8-.78.8-2.07 0-2.86zM5.41 20L4 18.59l7.72-7.72 1.47 1.35L5.41 20z\"/>\n",
              "  </svg>\n",
              "      </button>\n",
              "      \n",
              "  <style>\n",
              "    .colab-df-container {\n",
              "      display:flex;\n",
              "      flex-wrap:wrap;\n",
              "      gap: 12px;\n",
              "    }\n",
              "\n",
              "    .colab-df-convert {\n",
              "      background-color: #E8F0FE;\n",
              "      border: none;\n",
              "      border-radius: 50%;\n",
              "      cursor: pointer;\n",
              "      display: none;\n",
              "      fill: #1967D2;\n",
              "      height: 32px;\n",
              "      padding: 0 0 0 0;\n",
              "      width: 32px;\n",
              "    }\n",
              "\n",
              "    .colab-df-convert:hover {\n",
              "      background-color: #E2EBFA;\n",
              "      box-shadow: 0px 1px 2px rgba(60, 64, 67, 0.3), 0px 1px 3px 1px rgba(60, 64, 67, 0.15);\n",
              "      fill: #174EA6;\n",
              "    }\n",
              "\n",
              "    [theme=dark] .colab-df-convert {\n",
              "      background-color: #3B4455;\n",
              "      fill: #D2E3FC;\n",
              "    }\n",
              "\n",
              "    [theme=dark] .colab-df-convert:hover {\n",
              "      background-color: #434B5C;\n",
              "      box-shadow: 0px 1px 3px 1px rgba(0, 0, 0, 0.15);\n",
              "      filter: drop-shadow(0px 1px 2px rgba(0, 0, 0, 0.3));\n",
              "      fill: #FFFFFF;\n",
              "    }\n",
              "  </style>\n",
              "\n",
              "      <script>\n",
              "        const buttonEl =\n",
              "          document.querySelector('#df-7124d312-a14d-452e-bb5e-cf11db0c7829 button.colab-df-convert');\n",
              "        buttonEl.style.display =\n",
              "          google.colab.kernel.accessAllowed ? 'block' : 'none';\n",
              "\n",
              "        async function convertToInteractive(key) {\n",
              "          const element = document.querySelector('#df-7124d312-a14d-452e-bb5e-cf11db0c7829');\n",
              "          const dataTable =\n",
              "            await google.colab.kernel.invokeFunction('convertToInteractive',\n",
              "                                                     [key], {});\n",
              "          if (!dataTable) return;\n",
              "\n",
              "          const docLinkHtml = 'Like what you see? Visit the ' +\n",
              "            '<a target=\"_blank\" href=https://colab.research.google.com/notebooks/data_table.ipynb>data table notebook</a>'\n",
              "            + ' to learn more about interactive tables.';\n",
              "          element.innerHTML = '';\n",
              "          dataTable['output_type'] = 'display_data';\n",
              "          await google.colab.output.renderOutput(dataTable, element);\n",
              "          const docLink = document.createElement('div');\n",
              "          docLink.innerHTML = docLinkHtml;\n",
              "          element.appendChild(docLink);\n",
              "        }\n",
              "      </script>\n",
              "    </div>\n",
              "  </div>\n",
              "  "
            ],
            "text/plain": [
              "   CreditScore Geography  Gender  Age  Tenure  Balance  NumOfProducts  \\\n",
              "0          619    France  Female   42       2    0.000              1   \n",
              "\n",
              "   HasCrCard  IsActiveMember  EstimatedSalary  \n",
              "0          1               1       101348.880  "
            ]
          },
          "execution_count": 79,
          "metadata": {},
          "output_type": "execute_result"
        }
      ],
      "source": [
        "single_customer = df.drop('Exited', axis=1).iloc[[0]]\n",
        "single_customer"
      ]
    },
    {
      "cell_type": "code",
      "execution_count": null,
      "metadata": {
        "id": "bW67j9Wy8cow"
      },
      "outputs": [],
      "source": []
    },
    {
      "cell_type": "code",
      "execution_count": null,
      "metadata": {
        "id": "ary23ZsU8cg3"
      },
      "outputs": [],
      "source": [
        "single_customer1 = single_customer.copy()\n",
        "single_customer1[\"Geography\"] = \"Germany\"\n",
        "single_customer1[\"Age\"] = 45\n",
        "single_customer1[\"Balance\"] = 250000"
      ]
    },
    {
      "cell_type": "code",
      "execution_count": null,
      "metadata": {
        "colab": {
          "base_uri": "https://localhost:8080/"
        },
        "id": "-bGQIwWj8cXs",
        "outputId": "49dc9522-6a45-47d6-8dcc-fed40c331d48"
      },
      "outputs": [
        {
          "data": {
            "text/plain": [
              "array([[1.        , 0.        , 0.538     , 0.36486486, 0.2       ,\n",
              "        1.04871244, 0.        , 1.        , 1.        , 0.50673489]])"
            ]
          },
          "execution_count": 81,
          "metadata": {},
          "output_type": "execute_result"
        }
      ],
      "source": [
        "single_customer1 = column_trans.transform(single_customer1)\n",
        "single_customer1"
      ]
    },
    {
      "cell_type": "code",
      "execution_count": null,
      "metadata": {
        "colab": {
          "base_uri": "https://localhost:8080/"
        },
        "id": "JybCnMLL8cVf",
        "outputId": "c041f067-59b2-48ce-fdfc-58bc56847d41"
      },
      "outputs": [
        {
          "name": "stdout",
          "output_type": "stream",
          "text": [
            "1/1 [==============================] - 0s 21ms/step\n"
          ]
        },
        {
          "data": {
            "text/plain": [
              "array([[0.5624831]], dtype=float32)"
            ]
          },
          "execution_count": 82,
          "metadata": {},
          "output_type": "execute_result"
        }
      ],
      "source": [
        "model.predict(single_customer1)"
      ]
    },
    {
      "cell_type": "code",
      "execution_count": null,
      "metadata": {
        "colab": {
          "base_uri": "https://localhost:8080/"
        },
        "id": "UVguBHQd8oEN",
        "outputId": "517b0fed-a889-4dd0-f1e1-8b428c12dbd2"
      },
      "outputs": [
        {
          "name": "stdout",
          "output_type": "stream",
          "text": [
            "1/1 [==============================] - 0s 33ms/step\n"
          ]
        },
        {
          "data": {
            "text/plain": [
              "array([[1]], dtype=int32)"
            ]
          },
          "execution_count": 83,
          "metadata": {},
          "output_type": "execute_result"
        }
      ],
      "source": [
        "(model.predict(single_customer1) > 0.5).astype(\"int32\")"
      ]
    },
    {
      "cell_type": "markdown",
      "metadata": {
        "id": "OWYtF4_18tXT"
      },
      "source": [
        "## Comparison with ML"
      ]
    },
    {
      "cell_type": "code",
      "execution_count": null,
      "metadata": {
        "id": "z2qM9YlD8oB6"
      },
      "outputs": [],
      "source": [
        "from sklearn.pipeline import Pipeline\n",
        "from sklearn.ensemble import RandomForestClassifier\n",
        "from sklearn.svm import SVC\n",
        "from sklearn.linear_model import LogisticRegression"
      ]
    },
    {
      "cell_type": "code",
      "execution_count": null,
      "metadata": {
        "id": "MS85ibCa8n_Z"
      },
      "outputs": [],
      "source": [
        "X = df.drop('Exited', axis=1)\n",
        "y = df['Exited'].values"
      ]
    },
    {
      "cell_type": "code",
      "execution_count": null,
      "metadata": {
        "id": "NhlqvH7Z8n9A"
      },
      "outputs": [],
      "source": [
        "X_train, X_test, y_train, y_test = train_test_split(X,\n",
        "                                                    y,\n",
        "                                                    stratify=y,\n",
        "                                                    test_size=0.15,\n",
        "                                                    random_state=42)"
      ]
    },
    {
      "cell_type": "code",
      "execution_count": null,
      "metadata": {
        "id": "sAZCieV_8yvG"
      },
      "outputs": [],
      "source": [
        "X_train = column_trans.fit_transform(X_train)\n",
        "X_test = column_trans.transform(X_test)"
      ]
    },
    {
      "cell_type": "code",
      "execution_count": null,
      "metadata": {
        "id": "cyI8Igxl8ys7"
      },
      "outputs": [],
      "source": [
        "clf1 = RandomForestClassifier(random_state=42, class_weight=\"balanced\")\n",
        "clf2 = SVC(probability=True, random_state=42, class_weight=\"balanced\")\n",
        "clf3 = LogisticRegression(random_state=42, class_weight=\"balanced\")"
      ]
    },
    {
      "cell_type": "code",
      "execution_count": null,
      "metadata": {
        "id": "87hswBta8yrF"
      },
      "outputs": [],
      "source": [
        "# Initilaze the hyperparameters for each dictionary\n",
        "param1 = {}\n",
        "param1['classifier__n_estimators'] = [10, 50, 100, 250]\n",
        "param1['classifier__max_depth'] = [5, 10, 20]\n",
        "param1['classifier'] = [clf1]\n",
        "\n",
        "param2 = {}\n",
        "param2['classifier__C'] = [10**(-2 + i) for i in range(5)]\n",
        "param2['classifier'] = [clf2]\n",
        "\n",
        "param3 = {}\n",
        "param3['classifier__C'] = [10**(-2 + i) for i in range(5)]\n",
        "param3['classifier__penalty'] = ['l1', 'l2']\n",
        "param3['classifier'] = [clf3]"
      ]
    },
    {
      "cell_type": "code",
      "execution_count": null,
      "metadata": {
        "id": "DYcSjQ1h8_C7"
      },
      "outputs": [],
      "source": [
        "pipeline = Pipeline([('classifier', clf1)]) # pipeline to combine the classifiers\n",
        "params = [param1, param2, param3] # list of dictionaries to tune the hyperparameters"
      ]
    },
    {
      "cell_type": "code",
      "execution_count": null,
      "metadata": {
        "id": "cjFc-_rT9IB1"
      },
      "outputs": [],
      "source": [
        "from sklearn.model_selection import RandomizedSearchCV"
      ]
    },
    {
      "cell_type": "code",
      "execution_count": null,
      "metadata": {
        "id": "TsbEgC4c8-98"
      },
      "outputs": [],
      "source": [
        "grid_model = RandomizedSearchCV(pipeline,\n",
        "                                params,\n",
        "                                cv=5,\n",
        "                                n_jobs=-1,\n",
        "                                scoring='recall').fit(X_train, y_train)"
      ]
    },
    {
      "cell_type": "code",
      "execution_count": null,
      "metadata": {
        "colab": {
          "base_uri": "https://localhost:8080/"
        },
        "id": "0fGemQvb8-3z",
        "outputId": "1c9d48a3-9ec9-4f8f-8502-5e8371cd9f49"
      },
      "outputs": [
        {
          "data": {
            "text/plain": [
              "{'classifier__C': 100,\n",
              " 'classifier': SVC(C=100, class_weight='balanced', probability=True, random_state=42)}"
            ]
          },
          "execution_count": 107,
          "metadata": {},
          "output_type": "execute_result"
        }
      ],
      "source": [
        "grid_model.best_params_ # best parameters to get the best score"
      ]
    },
    {
      "cell_type": "code",
      "execution_count": null,
      "metadata": {
        "colab": {
          "base_uri": "https://localhost:8080/"
        },
        "id": "QUz5wdHm8-wN",
        "outputId": "90885f8e-a47a-46d3-eca5-13fd5f0bcba6"
      },
      "outputs": [
        {
          "data": {
            "text/plain": [
              "0.7077026869450783"
            ]
          },
          "execution_count": 108,
          "metadata": {},
          "output_type": "execute_result"
        }
      ],
      "source": [
        "grid_model.best_score_ # best score according to the scoring function"
      ]
    },
    {
      "cell_type": "code",
      "execution_count": null,
      "metadata": {
        "colab": {
          "base_uri": "https://localhost:8080/",
          "height": 404
        },
        "id": "ZInkbEHD8-oV",
        "outputId": "d1b390c2-5b75-4171-fb97-75a8758cf444"
      },
      "outputs": [
        {
          "data": {
            "image/png": "[encoded data removed]",
            "text/plain": [
              "<Figure size 720x432 with 1 Axes>"
            ]
          },
          "metadata": {},
          "output_type": "display_data"
        }
      ],
      "source": [
        "y_pred_proba = grid_model.predict_proba(X_test)[:, 1]\n",
        "precisions, recalls, thresholds = precision_recall_curve(y_test, y_pred_proba)\n",
        "plt.plot(recalls, precisions, label='RF')\n",
        "plt.xlabel('recalls')\n",
        "plt.ylabel('precisions')\n",
        "plt.title('Precision-Recall curve')\n",
        "plt.show()"
      ]
    },
    {
      "cell_type": "code",
      "execution_count": null,
      "metadata": {
        "colab": {
          "base_uri": "https://localhost:8080/"
        },
        "id": "PODE5UQ68yo2",
        "outputId": "520a6c06-6d1f-4c5a-8cb9-1946c29110b0"
      },
      "outputs": [
        {
          "data": {
            "text/plain": [
              "0.6060413020865634"
            ]
          },
          "execution_count": 110,
          "metadata": {},
          "output_type": "execute_result"
        }
      ],
      "source": [
        "average_precision_score(y_test, y_pred_proba)"
      ]
    },
    {
      "cell_type": "code",
      "execution_count": null,
      "metadata": {
        "colab": {
          "base_uri": "https://localhost:8080/"
        },
        "id": "fDcMp8WV9Qhn",
        "outputId": "420fa110-14f8-48e0-c3b7-4ee1cd8b25b1"
      },
      "outputs": [
        {
          "name": "stdout",
          "output_type": "stream",
          "text": [
            "[[939 255]\n",
            " [ 86 220]]\n",
            "              precision    recall  f1-score   support\n",
            "\n",
            "           0       0.92      0.79      0.85      1194\n",
            "           1       0.46      0.72      0.56       306\n",
            "\n",
            "    accuracy                           0.77      1500\n",
            "   macro avg       0.69      0.75      0.70      1500\n",
            "weighted avg       0.82      0.77      0.79      1500\n",
            "\n"
          ]
        }
      ],
      "source": [
        "y_pred = grid_model.predict(X_test)\n",
        "\n",
        "print(confusion_matrix(y_test, y_pred))\n",
        "print(classification_report(y_test, y_pred))"
      ]
    },
    {
      "cell_type": "code",
      "execution_count": null,
      "metadata": {
        "id": "HQnU5eyG9QfR"
      },
      "outputs": [],
      "source": []
    },
    {
      "cell_type": "code",
      "execution_count": null,
      "metadata": {
        "id": "hJXtfUGN9QdQ"
      },
      "outputs": [],
      "source": []
    },
    {
      "cell_type": "code",
      "execution_count": null,
      "metadata": {
        "id": "q8sTnAiN9QbD"
      },
      "outputs": [],
      "source": []
    },
    {
      "cell_type": "code",
      "execution_count": null,
      "metadata": {
        "id": "FQ7t6eeQ9QYc"
      },
      "outputs": [],
      "source": []
    },
    {
      "cell_type": "markdown",
      "metadata": {
        "id": "Bnf65FyUyIDL"
      },
      "source": [
        "___\n",
        "\n",
        "<p style=\"text-align: center;\"><img src=\"https://docs.google.com/uc?id=1lY0Uj5R04yMY3-ZppPWxqCr5pvBLYPnV\" class=\"img-fluid\" alt=\"CLRSWY\"></p>\n",
        "\n",
        "___"
      ]
    }
  ],
  "metadata": {
    "accelerator": "GPU",
    "colab": {
      "provenance": []
    },
    "gpuClass": "standard",
    "kernelspec": {
      "display_name": "Python 3",
      "language": "python",
      "name": "python3"
    },
    "language_info": {
      "codemirror_mode": {
        "name": "ipython",
        "version": 3
      },
      "file_extension": ".py",
      "mimetype": "text/x-python",
      "name": "python",
      "nbconvert_exporter": "python",
      "pygments_lexer": "ipython3",
      "version": "3.10.4"
    },
    "toc": {
      "base_numbering": 1,
      "nav_menu": {},
      "number_sections": false,
      "sideBar": true,
      "skip_h1_title": false,
      "title_cell": "Table of Contents",
      "title_sidebar": "Contents",
      "toc_cell": false,
      "toc_position": {},
      "toc_section_display": true,
      "toc_window_display": true
    },
    "vscode": {
      "interpreter": {
        "hash": "77d06a1efd61c2ac0daf3c04b2ae52a1f581ade8654a7c81029e3bd7df1a1316"
      }
    }
  },
  "nbformat": 4,
  "nbformat_minor": 0
}
